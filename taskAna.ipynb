{
 "cells": [
  {
   "cell_type": "code",
   "execution_count": 112,
   "metadata": {},
   "outputs": [],
   "source": [
    "import asyncio\n",
    "import aiohttp\n",
    "import requests\n",
    "import json\n",
    "import time\n",
    "import numpy as np\n",
    "import matplotlib.pyplot as plt\n",
    "from collections import defaultdict\n",
    "import random\n",
    "import string\n",
    "import concurrent.futures\n",
    "num_requests =10000"
   ]
  },
  {
   "cell_type": "code",
   "execution_count": 110,
   "metadata": {},
   "outputs": [
    {
     "name": "stdout",
     "output_type": "stream",
     "text": [
      "{'message': 'Configured Database', 'status': 'success'}\n",
      "Request completed in 23.0768 seconds\n"
     ]
    }
   ],
   "source": [
    "### Initialization of servers ####\n",
    "Payload_Json= {\n",
    "    \"N\":6,\n",
    "    \"schema\":{\"columns\":[\"Stud_id\",\"Stud_name\",\"Stud_marks\"],\n",
    "    \"dtypes\":[\"Number\",\"String\",\"String\"]},\n",
    "\n",
    "    \"shards\":[{\"Stud_id_low\":0, \"Shard_id\": \"sh1\", \"Shard_size\":4096},\n",
    "    {\"Stud_id_low\":4096, \"Shard_id\": \"sh2\", \"Shard_size\":4096},\n",
    "    {\"Stud_id_low\":8192, \"Shard_id\": \"sh3\", \"Shard_size\":4096},\n",
    "    {\"Stud_id_low\":12288, \"Shard_id\": \"sh4\", \"Shard_size\":4096}],\n",
    "    \n",
    "    \"servers\":{\n",
    "    \"Server1\":[\"sh3\",\"sh4\"],\n",
    "    \"Server2\":[\"sh2\",\"sh3\"],\n",
    "    \"Server3\":[\"sh1\",\"sh3\"],\n",
    "    \"Server4\":[\"sh4\",\"sh2\"],\n",
    "    \"Server5\":[\"sh1\",\"sh4\"],\n",
    "    \"Server6\":[\"sh3\",\"sh2\"]}\n",
    "    }\n",
    "init_start = time.perf_counter()\n",
    "res = requests.post(\"http://10.171.9.221:5000/init\",json=Payload_Json).json()\n",
    "print(res)\n",
    "init_time = time.perf_counter()-init_start\n",
    "print(\"Request completed in {0:.4f} seconds\".format(init_time))"
   ]
  },
  {
   "cell_type": "code",
   "execution_count": 111,
   "metadata": {},
   "outputs": [
    {
     "data": {
      "text/plain": [
       "{'N': 6,\n",
       " 'schema': {'columns': ['Stud_id', 'Stud_name', 'Stud_marks'],\n",
       "  'dtypes': ['Number', 'String', 'String']},\n",
       " 'servers': {'Server1': ['sh3', 'sh4'],\n",
       "  'Server2': ['sh2', 'sh3'],\n",
       "  'Server3': ['sh1', 'sh3'],\n",
       "  'Server4': ['sh4', 'sh2'],\n",
       "  'Server5': ['sh1', 'sh4'],\n",
       "  'Server6': ['sh3', 'sh2']},\n",
       " 'shards': [{'Shard_id': 'sh1', 'Shard_size': 4096, 'Stud_id_low': 0},\n",
       "  {'Shard_id': 'sh2', 'Shard_size': 4096, 'Stud_id_low': 4096},\n",
       "  {'Shard_id': 'sh3', 'Shard_size': 4096, 'Stud_id_low': 8192},\n",
       "  {'Shard_id': 'sh4', 'Shard_size': 4096, 'Stud_id_low': 12288}]}"
      ]
     },
     "execution_count": 111,
     "metadata": {},
     "output_type": "execute_result"
    }
   ],
   "source": [
    "######## Check Status ################\n",
    "res = requests.get(\"http://10.171.9.221:5000/status\").json()\n",
    "res"
   ]
  },
  {
   "cell_type": "code",
   "execution_count": 113,
   "metadata": {},
   "outputs": [],
   "source": [
    "\n",
    "####### 10000 request for write ###################\n",
    "def generate_random_string():\n",
    "    letters = string.ascii_uppercase  # Get all lowercase letters\n",
    "    return ''.join(random.choices(letters, k=random.randint(3,6)))  \n",
    "\n",
    "\n",
    "write_time = []\n",
    "def writeRequest(id):\n",
    "    url = \"http://10.171.9.221:5000/write\"\n",
    "    write_Json = {\"data\":[{\"Stud_id\":id,\"Stud_name\":f\"{str(generate_random_string())}\",\"Stud_marks\":random.randint(0,100)}]}\n",
    "    start = time.time()\n",
    "    requestRes = requests.post(url,json=write_Json)\n",
    "    write_time.append(time.time() - start)\n",
    "    if requestRes.status_code != 200:\n",
    "        print(f\"Error {requestRes.status_code} in write\")\n",
    "\n"
   ]
  },
  {
   "cell_type": "markdown",
   "metadata": {},
   "source": [
    "### Write Operation"
   ]
  },
  {
   "cell_type": "code",
   "execution_count": 114,
   "metadata": {},
   "outputs": [
    {
     "name": "stdout",
     "output_type": "stream",
     "text": [
      "Total time taken: 184.91156578063965 secs\n"
     ]
    }
   ],
   "source": [
    "total_start_time=time.time()\n",
    "with concurrent.futures.ThreadPoolExecutor(max_workers=20) as executor:\n",
    "    write_tasks=[executor.submit(writeRequest(_)) for _ in range(num_requests)]\n",
    "    concurrent.futures.wait(write_tasks)\n",
    "\n",
    "print(f\"Total time taken: {time.time() - total_start_time} secs\")"
   ]
  },
  {
   "cell_type": "code",
   "execution_count": 102,
   "metadata": {},
   "outputs": [],
   "source": [
    "# ####### 10000 request for write ###################\n",
    "# def generate_random_string():\n",
    "#     letters = string.ascii_uppercase  # Get all lowercase letters\n",
    "#     return ''.join(random.choices(letters, k=random.randint(3,6)))  \n",
    "# write_time = []\n",
    "\n",
    "# for _ in range(num_requests):\n",
    "#     url = \"http://10.171.9.221:5000/read\"\n",
    "#     write_Json = {\"data\":[{\"Stud_id\":_,\"Stud_name\":f\"{str(generate_random_string())}\",\"Stud_marks\":random.randint(0,100)}]}\n",
    "#     # print(write_Json)\n",
    "#     start = time.time()\n",
    "#     requestRes = requests.post(url,json=write_Json)\n",
    "#     print(str(requestRes))\n",
    "#     write_time.append(time.time() - start)\n",
    "#     if requestRes.status_code != 200:\n",
    "#         print(f\"Error {requestRes.status_code} in Write\")"
   ]
  },
  {
   "cell_type": "code",
   "execution_count": 116,
   "metadata": {},
   "outputs": [
    {
     "data": {
      "image/png": "[encoded data removed]",
      "text/plain": [
       "<Figure size 640x480 with 1 Axes>"
      ]
     },
     "metadata": {},
     "output_type": "display_data"
    }
   ],
   "source": [
    "plt.hist(write_time, 100, (0,.1))\n",
    "plt.xlabel(\"Time taken for write (sec)\")\n",
    "plt.ylabel(\"Count\")\n",
    "plt.title(\"Analysis-1: Time distribution for write execution\")\n",
    "plt.savefig(\"./results/Assign2_A1_Write.jpg\")\n",
    "plt.show()"
   ]
  },
  {
   "cell_type": "markdown",
   "metadata": {},
   "source": [
    "### Read Operation"
   ]
  },
  {
   "cell_type": "code",
   "execution_count": 61,
   "metadata": {},
   "outputs": [],
   "source": [
    "# read_time = []\n",
    "\n",
    "# def readRequest():\n",
    "#     url = \"http://10.171.9.221:5000/read\"\n",
    "#     low =  random.randint(0,16383)\n",
    "#     read_Json = {\"Stud_id\" : {\"low\":low,\"high\":low+10}}\n",
    "#     start = time.time()\n",
    "#     requestRes = requests.post(url,json=read_Json)\n",
    "#     print(str(requestRes))\n",
    "#     read_time.append(time.time() - start)\n",
    "#     if requestRes.status_code != 200:\n",
    "#         print(f\"Error {requestRes.status_code} in Read\")"
   ]
  },
  {
   "cell_type": "code",
   "execution_count": 62,
   "metadata": {},
   "outputs": [],
   "source": [
    "# url = \"http://10.171.9.221:5000/read\"\n",
    "# read_Json = {\"Stud_id\" : {\"low\":1000,\"high\":10000}}\n",
    "# requestRes = requests.post(url,json=read_Json)"
   ]
  },
  {
   "cell_type": "code",
   "execution_count": 63,
   "metadata": {},
   "outputs": [],
   "source": [
    "# requestRes"
   ]
  },
  {
   "cell_type": "code",
   "execution_count": 64,
   "metadata": {},
   "outputs": [
    {
     "name": "stdout",
     "output_type": "stream",
     "text": [
      "<Response [200]><Response [500]>\n",
      "Error 500 in Read\n",
      "\n",
      "<Response [200]>\n",
      "<Response [200]>\n",
      "<Response [500]>\n",
      "Error 500 in Read\n",
      "Total time taken: 11.829792737960815 secs\n"
     ]
    }
   ],
   "source": [
    "# total_start_time=time.time()\n",
    "# with concurrent.futures.ThreadPoolExecutor(max_workers=20) as executor:\n",
    "#     read_tasks=[executor.submit(readRequest) for _ in range(num_requests)]\n",
    "#     concurrent.futures.wait(read_tasks)\n",
    "\n",
    "# print(f\"Total time taken: {time.time() - total_start_time} secs\")"
   ]
  },
  {
   "cell_type": "code",
   "execution_count": 117,
   "metadata": {},
   "outputs": [],
   "source": [
    "read_time = []\n",
    "\n",
    "for _ in range(num_requests):\n",
    "    url = \"http://10.171.9.221:5000/read\"\n",
    "    low =  random.randint(0,16383)\n",
    "    read_Json = {\"Stud_id\" : {\"low\":low,\"high\":low+10}}\n",
    "    start = time.time()\n",
    "    requestRes = requests.post(url,json=read_Json)\n",
    "    # print(str(requestRes))\n",
    "    read_time.append(time.time() - start)\n",
    "    if requestRes.status_code != 200:\n",
    "        print(f\"Error {requestRes.status_code} in Read\")"
   ]
  },
  {
   "cell_type": "code",
   "execution_count": 119,
   "metadata": {},
   "outputs": [
    {
     "data": {
      "image/png": "[encoded data removed]",
      "text/plain": [
       "<Figure size 640x480 with 1 Axes>"
      ]
     },
     "metadata": {},
     "output_type": "display_data"
    }
   ],
   "source": [
    "plt.hist(read_time, 100, (0,.01))\n",
    "plt.xlabel(\"Time taken for read (sec)\")\n",
    "plt.ylabel(\"Count\")\n",
    "plt.title(\"Analysis-1: Time distribution for read execution\")\n",
    "plt.savefig(\"./results/Assign2_A1_Read.jpg\")\n",
    "plt.show()"
   ]
  },
  {
   "cell_type": "code",
   "execution_count": 108,
   "metadata": {},
   "outputs": [
    {
     "data": {
      "text/plain": [
       "{'message': {'N': 0, 'servers': ['Server0']}, 'status': 'successful'}"
      ]
     },
     "execution_count": 108,
     "metadata": {},
     "output_type": "execute_result"
    }
   ],
   "source": [
    "Payload_Json = {\n",
    "    \"n\": 1,\n",
    "    \"servers\": [\"Server2\"]\n",
    "}\n",
    "# Payload_Json = {\n",
    "#     \"n\": 6,\n",
    "#     \"servers\": [\"Server1\", \"Server2\", \"Server3\", \"Server4\", \"Server5\",\"Server6\"],\n",
    "# }\n",
    "url = \"http://10.171.9.221:5000/rm\"\n",
    "res = requests.delete(url, json=Payload_Json)\n",
    "res.json()"
   ]
  },
  {
   "cell_type": "code",
   "execution_count": 95,
   "metadata": {},
   "outputs": [
    {
     "data": {
      "text/plain": [
       "{'message': 'Error during removing servers: Sample larger than population or is negative',\n",
       " 'status': 'error'}"
      ]
     },
     "execution_count": 95,
     "metadata": {},
     "output_type": "execute_result"
    }
   ],
   "source": [
    "res.json()"
   ]
  },
  {
   "cell_type": "markdown",
   "metadata": {},
   "source": [
    "## Analysis 2"
   ]
  },
  {
   "cell_type": "code",
   "execution_count": 121,
   "metadata": {},
   "outputs": [
    {
     "name": "stdout",
     "output_type": "stream",
     "text": [
      "{'message': 'Configured Database', 'status': 'success'}\n",
      "Request completed in 21.6726 seconds\n"
     ]
    }
   ],
   "source": [
    "Payload_Json = {\n",
    "    \"N\": 6,\n",
    "    \"schema\": {\n",
    "        \"columns\": [\"Stud_id\", \"Stud_name\", \"Stud_marks\"],\n",
    "        \"dtypes\": [\"Number\", \"String\", \"Number\"],\n",
    "    },\n",
    "    \"shards\": [\n",
    "        {\"Stud_id_low\": 0, \"Shard_id\": \"sh1\", \"Shard_size\": 4096},\n",
    "        {\"Stud_id_low\": 4096, \"Shard_id\": \"sh2\", \"Shard_size\": 4096},\n",
    "        {\"Stud_id_low\": 8192, \"Shard_id\": \"sh3\", \"Shard_size\": 4096},\n",
    "        {\"Stud_id_low\": 12288, \"Shard_id\": \"sh4\", \"Shard_size\": 4096},\n",
    "    ],\n",
    "    \"servers\": {\n",
    "        \"Server0\": [\"sh1\", \"sh2\", \"sh3\", \"sh4\"],\n",
    "        \"Server1\": [\"sh1\", \"sh2\", \"sh3\", \"sh4\"],\n",
    "        \"Server2\": [\"sh1\", \"sh2\", \"sh3\", \"sh4\"],\n",
    "        \"Server3\": [\"sh1\", \"sh2\", \"sh3\", \"sh4\"],\n",
    "        \"Server4\": [\"sh1\", \"sh2\", \"sh3\", \"sh4\"],\n",
    "        \"Server5\": [\"sh1\", \"sh2\", \"sh3\", \"sh4\"],\n",
    "    },\n",
    "}\n",
    "init_start = time.perf_counter()\n",
    "res = requests.post(\"http://10.171.9.221:5000/init\",json=Payload_Json).json()\n",
    "print(res)\n",
    "init_time = time.perf_counter()-init_start\n",
    "print(\"Request completed in {0:.4f} seconds\".format(init_time))"
   ]
  },
  {
   "cell_type": "code",
   "execution_count": 122,
   "metadata": {},
   "outputs": [
    {
     "data": {
      "text/plain": [
       "{'N': 6,\n",
       " 'schema': {'columns': ['Stud_id', 'Stud_name', 'Stud_marks'],\n",
       "  'dtypes': ['Number', 'String', 'Number']},\n",
       " 'servers': {'Server0': ['sh1', 'sh2', 'sh3', 'sh4'],\n",
       "  'Server1': ['sh1', 'sh2', 'sh3', 'sh4'],\n",
       "  'Server2': ['sh1', 'sh2', 'sh3', 'sh4'],\n",
       "  'Server3': ['sh1', 'sh2', 'sh3', 'sh4'],\n",
       "  'Server4': ['sh1', 'sh2', 'sh3', 'sh4'],\n",
       "  'Server5': ['sh1', 'sh2', 'sh3', 'sh4']},\n",
       " 'shards': [{'Shard_id': 'sh1', 'Shard_size': 4096, 'Stud_id_low': 0},\n",
       "  {'Shard_id': 'sh2', 'Shard_size': 4096, 'Stud_id_low': 4096},\n",
       "  {'Shard_id': 'sh3', 'Shard_size': 4096, 'Stud_id_low': 8192},\n",
       "  {'Shard_id': 'sh4', 'Shard_size': 4096, 'Stud_id_low': 12288}]}"
      ]
     },
     "execution_count": 122,
     "metadata": {},
     "output_type": "execute_result"
    }
   ],
   "source": [
    "######## Check Status ################\n",
    "res = requests.get(\"http://10.171.9.221:5000/status\").json()\n",
    "res"
   ]
  },
  {
   "cell_type": "code",
   "execution_count": 123,
   "metadata": {},
   "outputs": [],
   "source": [
    "write_time = []\n",
    "def writeRequest(id):\n",
    "    url = \"http://10.171.9.221:5000/write\"\n",
    "    write_Json = {\"data\":[{\"Stud_id\":id,\"Stud_name\":f\"{str(generate_random_string())}\",\"Stud_marks\":random.randint(0,100)}]}\n",
    "    start = time.time()\n",
    "    requestRes = requests.post(url,json=write_Json)\n",
    "    write_time.append(time.time() - start)\n",
    "    if requestRes.status_code != 200:\n",
    "        print(f\"Error {requestRes.status_code} in write\")\n",
    "        \n",
    "# read_time = []\n",
    "\n",
    "# def readRequest():\n",
    "#     url = \"http://10.171.9.221:5000/read\"\n",
    "#     low =  random.randint(0,16383)\n",
    "#     read_Json = {\"Stud_id\" : {\"low\":low,\"high\":low+100}}\n",
    "#     start = time.time()\n",
    "#     requestRes = requests.post(url,json=read_Json)\n",
    "#     read_time.append(time.time() - start)\n",
    "#     if requestRes.status_code != 200:\n",
    "#         print(f\"Error {requestRes.status_code} in write\")"
   ]
  },
  {
   "cell_type": "markdown",
   "metadata": {},
   "source": [
    "### Write Operation"
   ]
  },
  {
   "cell_type": "code",
   "execution_count": 124,
   "metadata": {},
   "outputs": [
    {
     "name": "stdout",
     "output_type": "stream",
     "text": [
      "Total time taken: 351.29824113845825 secs\n"
     ]
    }
   ],
   "source": [
    "total_start_time=time.time()\n",
    "with concurrent.futures.ThreadPoolExecutor(max_workers=20) as executor:\n",
    "    write_tasks=[executor.submit(writeRequest(_)) for _ in range(num_requests)]\n",
    "    concurrent.futures.wait(write_tasks)\n",
    "\n",
    "print(f\"Total time taken: {time.time() - total_start_time} secs\")"
   ]
  },
  {
   "cell_type": "code",
   "execution_count": 128,
   "metadata": {},
   "outputs": [
    {
     "data": {
      "image/png": "[encoded data removed]",
      "text/plain": [
       "<Figure size 640x480 with 1 Axes>"
      ]
     },
     "metadata": {},
     "output_type": "display_data"
    }
   ],
   "source": [
    "plt.hist(write_time, 100, (0,.1))\n",
    "plt.xlabel(\"Time taken for write (sec)\")\n",
    "plt.ylabel(\"Count\")\n",
    "plt.title(\"Analysis-2: Time distribution for write execution\")\n",
    "plt.savefig(\"./results/Assign2_A2_Write.jpg\")\n",
    "plt.show()"
   ]
  },
  {
   "cell_type": "markdown",
   "metadata": {},
   "source": [
    "### Read Operation"
   ]
  },
  {
   "cell_type": "code",
   "execution_count": 126,
   "metadata": {},
   "outputs": [],
   "source": [
    "# total_start_time=time.time()\n",
    "# with concurrent.futures.ThreadPoolExecutor(max_workers=20) as executor:\n",
    "#     read_tasks=[executor.submit(readRequest) for _ in range(num_requests)]\n",
    "#     concurrent.futures.wait(read_tasks)\n",
    "\n",
    "# print(f\"Total time taken: {time.time() - total_start_time} secs\")\n",
    "read_time = []\n",
    "\n",
    "for _ in range(num_requests):\n",
    "    url = \"http://10.171.9.221:5000/read\"\n",
    "    low =  random.randint(0,16383)\n",
    "    read_Json = {\"Stud_id\" : {\"low\":low,\"high\":low+10}}\n",
    "    start = time.time()\n",
    "    requestRes = requests.post(url,json=read_Json)\n",
    "    # print(str(requestRes))\n",
    "    read_time.append(time.time() - start)\n",
    "    if requestRes.status_code != 200:\n",
    "        print(f\"Error {requestRes.status_code} in Read\")"
   ]
  },
  {
   "cell_type": "code",
   "execution_count": 130,
   "metadata": {},
   "outputs": [
    {
     "data": {
      "image/png": "[encoded data removed]",
      "text/plain": [
       "<Figure size 640x480 with 1 Axes>"
      ]
     },
     "metadata": {},
     "output_type": "display_data"
    }
   ],
   "source": [
    "plt.hist(read_time, 100, (0,.01))\n",
    "plt.xlabel(\"Time taken for read (sec)\")\n",
    "plt.ylabel(\"Count\")\n",
    "plt.title(\"Analysis-2: Time distribution for read execution\")\n",
    "plt.savefig(\"./results/Assign2_A2_Read.jpg\")\n",
    "plt.show()"
   ]
  },
  {
   "cell_type": "code",
   "execution_count": 100,
   "metadata": {},
   "outputs": [
    {
     "data": {
      "text/plain": [
       "{'message': 'Error during removing servers: Sample larger than population or is negative',\n",
       " 'status': 'error'}"
      ]
     },
     "execution_count": 100,
     "metadata": {},
     "output_type": "execute_result"
    }
   ],
   "source": [
    "# Payload_Json = {\n",
    "#     \"n\": 6,\n",
    "#     \"servers\": [\"Server0\", \"Server1\", \"Server2\", \"Server3\", \"Server4\", \"Server5\"]\n",
    "# }\n",
    "\n",
    "# url = \"http://10.171.9.221:5000/rm\"\n",
    "# res = requests.delete(url, json=Payload_Json).json()\n",
    "# res"
   ]
  },
  {
   "cell_type": "markdown",
   "metadata": {},
   "source": [
    "## Analysis 3"
   ]
  },
  {
   "cell_type": "code",
   "execution_count": null,
   "metadata": {},
   "outputs": [],
   "source": [
    "Payload_Json = {\n",
    "    \"N\": 10,\n",
    "    \"schema\": {\n",
    "        \"columns\": [\"Stud_id\", \"Stud_name\", \"Stud_marks\"],\n",
    "        \"dtypes\": [\"Number\", \"String\", \"Number\"],\n",
    "    },\n",
    "    \"shards\": [\n",
    "        {\"Stud_id_low\": 0, \"Shard_id\": \"sh1\", \"Shard_size\": 4096},\n",
    "        {\"Stud_id_low\": 4096, \"Shard_id\": \"sh2\", \"Shard_size\": 4096},\n",
    "        {\"Stud_id_low\": 8192, \"Shard_id\": \"sh3\", \"Shard_size\": 4096},\n",
    "        {\"Stud_id_low\": 12288, \"Shard_id\": \"sh4\", \"Shard_size\": 4096},\n",
    "        {\"Stud_id_low\": 16384, \"Shard_id\": \"sh5\", \"Shard_size\": 4096},\n",
    "        {\"Stud_id_low\": 20480, \"Shard_id\": \"sh6\", \"Shard_size\": 4096},\n",
    "    ],\n",
    "    \"servers\": {\n",
    "        \"Server0\": [\"sh1\", \"sh2\", \"sh4\", \"sh6\"],\n",
    "        \"Server1\": [\"sh1\", \"sh2\", \"sh3\", \"sh4\", \"sh5\"],\n",
    "        \"Server2\": [\"sh1\", \"sh2\", \"sh3\", \"sh5\", \"sh6\"],\n",
    "        \"Server3\": [\"sh4\", \"sh2\", \"sh3\", \"sh5\", \"sh6\"],\n",
    "        \"Server4\": [\"sh1\", \"sh4\", \"sh5\", \"sh6\"],\n",
    "        \"Server5\": [\"sh3\", \"sh2\", \"sh5\", \"sh6\"],\n",
    "        \"Server6\": [\"sh1\", \"sh3\", \"sh4\", \"sh5\", \"sh6\"],\n",
    "        \"Server7\": [\"sh1\", \"sh3\", \"sh4\", \"sh2\", \"sh5\"],\n",
    "        \"Server8\": [\"sh1\", \"sh2\", \"sh3\", \"sh4\", \"sh6\"],\n",
    "        \"Server9\": [\"sh1\", \"sh2\", \"sh3\", \"sh4\", \"sh5\", \"sh6\"],\n",
    "    },\n",
    "}\n",
    "\n",
    "init_start = time.perf_counter()\n",
    "res = requests.post(\"http://10.171.9.221:5000/init\",json=Payload_Json).json()\n",
    "print(res)\n",
    "init_time = time.perf_counter()-init_start\n",
    "print(\"Request completed in {0:.4f} seconds\".format(init_time))"
   ]
  },
  {
   "cell_type": "code",
   "execution_count": null,
   "metadata": {},
   "outputs": [],
   "source": [
    "######## Check Status ################\n",
    "res = requests.get(\"http://10.171.9.221:5000/status\").json()\n",
    "res"
   ]
  },
  {
   "cell_type": "code",
   "execution_count": null,
   "metadata": {},
   "outputs": [],
   "source": [
    "write_time = []\n",
    "def writeRequest(id):\n",
    "    url = \"http://10.171.9.221:5000/write\"\n",
    "    write_Json = {\"data\":[{\"Stud_id\":id,\"Stud_name\":f\"{str(generate_random_string())}\",\"Stud_marks\":random.randint(0,100)}]}\n",
    "    start = time.time()\n",
    "    requestRes = requests.post(url,json=write_Json)\n",
    "    write_time.append(time.time() - start)\n",
    "    if requestRes.status_code != 200:\n",
    "        print(f\"Error {requestRes.status_code} in write\")\n",
    "        \n",
    "# read_time = []\n",
    "\n",
    "# def readRequest():\n",
    "#     url = \"http://10.171.9.221:5000/read\"\n",
    "#     low =  random.randint(0,16383)\n",
    "#     read_Json = {\"Stud_id\" : {\"low\":low,\"high\":low+100}}\n",
    "#     start = time.time()\n",
    "#     requestRes = requests.post(url,json=read_Json)\n",
    "#     read_time.append(time.time() - start)\n",
    "#     if requestRes.status_code != 200:\n",
    "#         print(f\"Error {requestRes.status_code} in write\")"
   ]
  },
  {
   "cell_type": "markdown",
   "metadata": {},
   "source": [
    "### Write Operation"
   ]
  },
  {
   "cell_type": "code",
   "execution_count": null,
   "metadata": {},
   "outputs": [],
   "source": [
    "total_start_time=time.time()\n",
    "with concurrent.futures.ThreadPoolExecutor(max_workers=20) as executor:\n",
    "    write_tasks=[executor.submit(writeRequest(_)) for _ in range(num_requests)]\n",
    "    concurrent.futures.wait(write_tasks)\n",
    "\n",
    "print(f\"Total time taken: {time.time() - total_start_time} secs\")"
   ]
  },
  {
   "cell_type": "code",
   "execution_count": null,
   "metadata": {},
   "outputs": [],
   "source": [
    "plt.hist(write_time, 100, (0,.1))\n",
    "plt.xlabel(\"Time taken for write (sec)\")\n",
    "plt.ylabel(\"Count\")\n",
    "plt.title(\"Analysis-3: Time distribution for write execution\")\n",
    "plt.savefig(\"./results/Assign2_A3_Write.jpg\")\n",
    "plt.show()"
   ]
  },
  {
   "cell_type": "markdown",
   "metadata": {},
   "source": [
    "### Read Operation"
   ]
  },
  {
   "cell_type": "code",
   "execution_count": null,
   "metadata": {},
   "outputs": [],
   "source": [
    "# total_start_time=time.time()\n",
    "# with concurrent.futures.ThreadPoolExecutor(max_workers=20) as executor:\n",
    "#     read_tasks=[executor.submit(readRequest) for _ in range(num_requests)]\n",
    "#     concurrent.futures.wait(read_tasks)\n",
    "\n",
    "# print(f\"Total time taken: {time.time() - total_start_time} secs\")\n",
    "\n",
    "read_time = []\n",
    "\n",
    "for _ in range(num_requests):\n",
    "    url = \"http://10.171.9.221:5000/read\"\n",
    "    low =  random.randint(0,16383)\n",
    "    read_Json = {\"Stud_id\" : {\"low\":low,\"high\":low+10}}\n",
    "    start = time.time()\n",
    "    requestRes = requests.post(url,json=read_Json)\n",
    "    # print(str(requestRes))\n",
    "    read_time.append(time.time() - start)\n",
    "    if requestRes.status_code != 200:\n",
    "        print(f\"Error {requestRes.status_code} in Read\")"
   ]
  },
  {
   "cell_type": "code",
   "execution_count": null,
   "metadata": {},
   "outputs": [],
   "source": [
    "plt.hist(read_time, 100, (0,.01))\n",
    "plt.xlabel(\"Time taken for read (sec)\")\n",
    "plt.ylabel(\"Count\")\n",
    "plt.title(\"Analysis-3: Time distribution for read execution\")\n",
    "plt.savefig(\"./results/Assign2_A3_Read.jpg\")\n",
    "plt.show()"
   ]
  }
 ],
 "metadata": {
  "kernelspec": {
   "display_name": "Python 3",
   "language": "python",
   "name": "python3"
  },
  "language_info": {
   "codemirror_mode": {
    "name": "ipython",
    "version": 3
   },
   "file_extension": ".py",
   "mimetype": "text/x-python",
   "name": "python",
   "nbconvert_exporter": "python",
   "pygments_lexer": "ipython3",
   "version": "3.10.12"
  }
 },
 "nbformat": 4,
 "nbformat_minor": 2
}
