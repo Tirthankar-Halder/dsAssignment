{
 "cells": [
  {
   "cell_type": "code",
   "execution_count": null,
   "metadata": {},
   "outputs": [],
   "source": [
    "# payload_json ={ \n",
    "#     \"N\":3\n",
    "#     \"schema\": {\"columns\":}\n",
    "# }\n",
    "import random\n",
    "Payload_Json= {\n",
    "    \"N\":3,\n",
    "    \"schema\":{\"columns\":[\"Stud_id\",\"Stud_name\",\"Stud_marks\"],\n",
    "    \"dtypes\":[\"Number\",\"String\",\"String\"]},\n",
    "\n",
    "    \"shards\":[{\"Stud_id_low\":0, \"Shard_id\": \"sh1\", \"Shard_size\":4096},\n",
    "    {\"Stud_id_low\":4096, \"Shard_id\": \"sh2\", \"Shard_size\":4096},\n",
    "    {\"Stud_id_low\":8192, \"Shard_id\": \"sh3\", \"Shard_size\":4096},],\n",
    "\n",
    "    \"servers\":{\"Server0\":[\"sh1\",\"sh2\"],\n",
    "    \"Server1\":[\"sh2\",\"sh3\"],\n",
    "    \"Server[5]\":[\"sh1\",\"sh3\"]}\n",
    "    }\n"
   ]
  },
  {
   "cell_type": "code",
   "execution_count": null,
   "metadata": {},
   "outputs": [],
   "source": [
    "shards = Payload_Json[\"shards\"]\n",
    "servers = Payload_Json[\"servers\"]\n",
    "print(servers)"
   ]
  },
  {
   "cell_type": "code",
   "execution_count": null,
   "metadata": {},
   "outputs": [],
   "source": [
    "keysList = list(Payload_Json[\"servers\"].keys())\n",
    "\n",
    "print(keysList)\n",
    "for server in keysList:\n",
    "    if server.find('[')!=-1:\n",
    "        serverName = f\"Server{random.randint(1,10)}\"\n",
    "        print(serverName)\n",
    "        if serverName != server:\n",
    "            servers[serverName] = servers[server]\n",
    "            del servers[server]\n",
    "else:\n",
    "        print(server)\n",
    "\n",
    "    # for shard in Payload_Json[\"servers\"][server]:\n",
    "    #     print(server,shard)"
   ]
  },
  {
   "cell_type": "code",
   "execution_count": null,
   "metadata": {},
   "outputs": [],
   "source": [
    "print(servers)"
   ]
  },
  {
   "cell_type": "code",
   "execution_count": null,
   "metadata": {},
   "outputs": [],
   "source": [
    "from assist import *\n",
    "queryHandler = SQLHandler(db=\"loadbalancerDB\")\n",
    "from consistant_HASHMAP import ConsistentHashMap\n",
    "\n",
    "NUM_CONTAINERS = 3\n",
    "TOTAL_SLOTS = 512\n",
    "NUM_VIRTUAL_SERVERS = 9\n",
    "shardServerMap = {}\n",
    "for shard in shards:\n",
    "            id = shard['Shard_id']\n",
    "            shardServerMap[id] = ConsistentHashMap(num_containers=0, total_slots= TOTAL_SLOTS, num_virtual_servers=NUM_VIRTUAL_SERVERS)\n",
    "            serverContainer = queryHandler.whereIsShard(id)\n",
    "            for server in serverContainer:\n",
    "                shardServerMap[id].add_server_container(server)"
   ]
  },
  {
   "cell_type": "code",
   "execution_count": null,
   "metadata": {},
   "outputs": [],
   "source": []
  }
 ],
 "metadata": {
  "kernelspec": {
   "display_name": "Python 3",
   "language": "python",
   "name": "python3"
  },
  "language_info": {
   "codemirror_mode": {
    "name": "ipython",
    "version": 3
   },
   "file_extension": ".py",
   "mimetype": "text/x-python",
   "name": "python",
   "nbconvert_exporter": "python",
   "pygments_lexer": "ipython3",
   "version": "3.10.12"
  }
 },
 "nbformat": 4,
 "nbformat_minor": 2
}
