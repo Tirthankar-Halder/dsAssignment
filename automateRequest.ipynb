{
 "cells": [
  {
   "cell_type": "code",
   "execution_count": 154,
   "metadata": {},
   "outputs": [],
   "source": [
    "import requests\n",
    "import time"
   ]
  },
  {
   "cell_type": "code",
   "execution_count": 155,
   "metadata": {},
   "outputs": [],
   "source": [
    "# res = requests.get(\"http://10.171.9.221:5000/rep\").json()\n",
    "# res"
   ]
  },
  {
   "cell_type": "code",
   "execution_count": 156,
   "metadata": {},
   "outputs": [],
   "source": [
    "Payload_Json= {\n",
    "    \"N\":3,\n",
    "    \"schema\":{\"columns\":[\"Stud_id\",\"Stud_name\",\"Stud_marks\"],\n",
    "    \"dtypes\":[\"Number\",\"String\",\"String\"]},\n",
    "\n",
    "    \"shards\":[{\"Stud_id_low\":0, \"Shard_id\": \"sh1\", \"Shard_size\":4096},\n",
    "    {\"Stud_id_low\":4096, \"Shard_id\": \"sh2\", \"Shard_size\":4096},\n",
    "    {\"Stud_id_low\":8192, \"Shard_id\": \"sh3\", \"Shard_size\":4096}],\n",
    "    \n",
    "    \"servers\":{\"Server0\":[\"sh1\",\"sh2\"],\n",
    "    \"Server1\":[\"sh2\",\"sh3\"],\n",
    "    \"Server2\":[\"sh1\",\"sh3\"]}\n",
    "    }\n"
   ]
  },
  {
   "cell_type": "code",
   "execution_count": 157,
   "metadata": {},
   "outputs": [
    {
     "data": {
      "text/plain": [
       "{'message': 'Configured Database', 'status': 'success'}"
      ]
     },
     "execution_count": 157,
     "metadata": {},
     "output_type": "execute_result"
    }
   ],
   "source": [
    "res = requests.post(\"http://10.171.9.221:5000/init\",json=Payload_Json).json()\n",
    "res"
   ]
  },
  {
   "cell_type": "code",
   "execution_count": 158,
   "metadata": {},
   "outputs": [
    {
     "data": {
      "text/plain": [
       "{'N': 3,\n",
       " 'schema': {'columns': ['Stud_id', 'Stud_name', 'Stud_marks'],\n",
       "  'dtypes': ['Number', 'String', 'String']},\n",
       " 'servers': {'Server0': ['sh1', 'sh2'],\n",
       "  'Server1': ['sh2', 'sh3'],\n",
       "  'Server2': ['sh1', 'sh3']},\n",
       " 'shards': [{'Shard_id': 'sh1', 'Shard_size': 4096, 'Stud_id_low': 0},\n",
       "  {'Shard_id': 'sh2', 'Shard_size': 4096, 'Stud_id_low': 4096},\n",
       "  {'Shard_id': 'sh3', 'Shard_size': 4096, 'Stud_id_low': 8192}]}"
      ]
     },
     "execution_count": 158,
     "metadata": {},
     "output_type": "execute_result"
    }
   ],
   "source": [
    "res = requests.get(\"http://10.171.9.221:5000/status\").json()\n",
    "res"
   ]
  },
  {
   "cell_type": "code",
   "execution_count": 159,
   "metadata": {},
   "outputs": [],
   "source": [
    "Payload_Json = {\n",
    "    \"data\":[\n",
    "        {\"Stud_id\":2255,\"Stud_name\":\"GHI\",\"Stud_marks\":27}, \n",
    "        {\"Stud_id\":3524,\"Stud_name\":\"JKBFSFS\",\"Stud_marks\":56},\n",
    "        {\"Stud_id\":1005,\"Stud_name\":\"YUBAAD\",\"Stud_marks\":100},\n",
    "        {\"Stud_id\":6235,\"Stud_name\":\"GHI\",\"Stud_marks\":27}, \n",
    "        {\"Stud_id\":9524,\"Stud_name\":\"JKBFSFS\",\"Stud_marks\":56},\n",
    "        {\"Stud_id\":10005,\"Stud_name\":\"YUBAAD\",\"Stud_marks\":100},\n",
    "        {\"Stud_id\":2355,\"Stud_name\":\"GHI\",\"Stud_marks\":27}, \n",
    "        {\"Stud_id\":6524,\"Stud_name\":\"JKBFSFS\",\"Stud_marks\":56},\n",
    "        {\"Stud_id\":1095,\"Stud_name\":\"YUBAAD\",\"Stud_marks\":100},\n",
    "        {\"Stud_id\":5324,\"Stud_name\":\"JKBFSFS\",\"Stud_marks\":56}\n",
    "    ]\n",
    "}\n",
    "# copy = {'sh3': \"[{'Stud_id': 9524, 'Stud_name': 'JKBFSFS', 'Stud_marks': '56'}, {'Stud_id': 10005, 'Stud_name': 'YUBAAD', 'Stud_marks': '100'}]\", 'status': 'success'}"
   ]
  },
  {
   "cell_type": "code",
   "execution_count": 160,
   "metadata": {},
   "outputs": [],
   "source": [
    "# list(copy[\"sh3\"])"
   ]
  },
  {
   "cell_type": "code",
   "execution_count": 161,
   "metadata": {},
   "outputs": [
    {
     "data": {
      "text/plain": [
       "{'N': 3,\n",
       " 'schema': {'columns': ['Stud_id', 'Stud_name', 'Stud_marks'],\n",
       "  'dtypes': ['Number', 'String', 'String']},\n",
       " 'servers': {'Server0': ['sh1', 'sh2'],\n",
       "  'Server1': ['sh2', 'sh3'],\n",
       "  'Server2': ['sh1', 'sh3']},\n",
       " 'shards': [{'Shard_id': 'sh1', 'Shard_size': 4096, 'Stud_id_low': 0},\n",
       "  {'Shard_id': 'sh2', 'Shard_size': 4096, 'Stud_id_low': 4096},\n",
       "  {'Shard_id': 'sh3', 'Shard_size': 4096, 'Stud_id_low': 8192}]}"
      ]
     },
     "execution_count": 161,
     "metadata": {},
     "output_type": "execute_result"
    }
   ],
   "source": [
    "res = requests.get(\"http://10.171.9.221:5000/status\").json()\n",
    "res"
   ]
  },
  {
   "cell_type": "code",
   "execution_count": 162,
   "metadata": {},
   "outputs": [
    {
     "data": {
      "text/plain": [
       "{'message': '20 Data entries added', 'status': 'success'}"
      ]
     },
     "execution_count": 162,
     "metadata": {},
     "output_type": "execute_result"
    }
   ],
   "source": [
    "res = requests.post(\"http://10.171.9.221:5000/write\",json=Payload_Json).json()\n",
    "res"
   ]
  },
  {
   "cell_type": "code",
   "execution_count": null,
   "metadata": {},
   "outputs": [],
   "source": []
  },
  {
   "cell_type": "code",
   "execution_count": 163,
   "metadata": {},
   "outputs": [],
   "source": [
    "Payload_Json = {\n",
    "    \"Stud_id\" : {\"low\":1000,\"high\":8899}\n",
    "}"
   ]
  },
  {
   "cell_type": "code",
   "execution_count": 164,
   "metadata": {},
   "outputs": [
    {
     "name": "stdout",
     "output_type": "stream",
     "text": [
      "Request completed in 0.0122 seconds\n"
     ]
    }
   ],
   "source": [
    "start = time.perf_counter()\n",
    "\n",
    "res = requests.post(\"http://10.171.9.221:5000/read\",json = Payload_Json).json()\n",
    "res\n",
    "# print(res.elapsed.total_seconds())\n",
    "request_time = time.perf_counter() - start\n",
    "print(\"Request completed in {0:.4f} seconds\".format(request_time))"
   ]
  },
  {
   "cell_type": "code",
   "execution_count": 165,
   "metadata": {},
   "outputs": [],
   "source": [
    "Payload_Json = {\n",
    "    \"Stud_id\" : 2255,\n",
    "    \"data\" :{\"Stud_id\":2255,\"Stud_name\":\"GHI\",\"Stud_marks\":30}\n",
    "}"
   ]
  },
  {
   "cell_type": "code",
   "execution_count": 166,
   "metadata": {},
   "outputs": [
    {
     "data": {
      "text/plain": [
       "{'message': 'Data entry for Stud_id: 2255 updated', 'status': 'success'}"
      ]
     },
     "execution_count": 166,
     "metadata": {},
     "output_type": "execute_result"
    }
   ],
   "source": [
    "res = requests.put(\"http://10.171.9.221:5000/update\",json = Payload_Json).json()\n",
    "res"
   ]
  },
  {
   "cell_type": "code",
   "execution_count": 167,
   "metadata": {},
   "outputs": [],
   "source": [
    "Payload_Json = {\n",
    "    \"Stud_id\":2255\n",
    "}"
   ]
  },
  {
   "cell_type": "code",
   "execution_count": 168,
   "metadata": {},
   "outputs": [
    {
     "data": {
      "text/plain": [
       "{'message': 'Data entry with Stud_id:2255 removed from all replicas',\n",
       " 'status': 'success'}"
      ]
     },
     "execution_count": 168,
     "metadata": {},
     "output_type": "execute_result"
    }
   ],
   "source": [
    "res = requests.delete(\"http://10.171.9.221:5000/del\",json = Payload_Json).json()\n",
    "res"
   ]
  },
  {
   "cell_type": "code",
   "execution_count": 169,
   "metadata": {},
   "outputs": [],
   "source": [
    "Payload_Json = {\n",
    "    \"Stud_id\" : {\"low\":1000,\"high\":8899}\n",
    "}"
   ]
  },
  {
   "cell_type": "code",
   "execution_count": 170,
   "metadata": {},
   "outputs": [
    {
     "data": {
      "text/plain": [
       "{'data': [{'Stud_id': 1005, 'Stud_marks': '100', 'Stud_name': 'YUBAAD'},\n",
       "  {'Stud_id': 1095, 'Stud_marks': '100', 'Stud_name': 'YUBAAD'},\n",
       "  {'Stud_id': 2355, 'Stud_marks': '27', 'Stud_name': 'GHI'},\n",
       "  {'Stud_id': 3524, 'Stud_marks': '56', 'Stud_name': 'JKBFSFS'},\n",
       "  {'Stud_id': 5324, 'Stud_marks': '56', 'Stud_name': 'JKBFSFS'},\n",
       "  {'Stud_id': 6235, 'Stud_marks': '27', 'Stud_name': 'GHI'},\n",
       "  {'Stud_id': 6524, 'Stud_marks': '56', 'Stud_name': 'JKBFSFS'}],\n",
       " 'shards_queried': ['sh1', 'sh2', 'sh3'],\n",
       " 'status': 'success'}"
      ]
     },
     "execution_count": 170,
     "metadata": {},
     "output_type": "execute_result"
    }
   ],
   "source": [
    "res = requests.post(\"http://10.171.9.221:5000/read\",json = Payload_Json).json()\n",
    "res"
   ]
  },
  {
   "cell_type": "code",
   "execution_count": 171,
   "metadata": {},
   "outputs": [
    {
     "data": {
      "text/plain": [
       "{'N': 3,\n",
       " 'schema': {'columns': ['Stud_id', 'Stud_name', 'Stud_marks'],\n",
       "  'dtypes': ['Number', 'String', 'String']},\n",
       " 'servers': {'Server0': ['sh1', 'sh2'],\n",
       "  'Server1': ['sh2', 'sh3'],\n",
       "  'Server2': ['sh1', 'sh3']},\n",
       " 'shards': [{'Shard_id': 'sh1', 'Shard_size': 4096, 'Stud_id_low': 0},\n",
       "  {'Shard_id': 'sh2', 'Shard_size': 4096, 'Stud_id_low': 4096},\n",
       "  {'Shard_id': 'sh3', 'Shard_size': 4096, 'Stud_id_low': 8192}]}"
      ]
     },
     "execution_count": 171,
     "metadata": {},
     "output_type": "execute_result"
    }
   ],
   "source": [
    "res = requests.get(\"http://10.171.9.221:5000/status\").json()\n",
    "res"
   ]
  },
  {
   "cell_type": "code",
   "execution_count": 172,
   "metadata": {},
   "outputs": [],
   "source": [
    "Payload_Json = {\n",
    "    \"n\" : 2,\n",
    "    \"new_shards\" :[{\"Stud_id_low\":12288, \"Shard_id\": \"sh5\", \"Shard_size\":4096}],\n",
    "    \"servers\":{\n",
    "        \"Server4\" : [\"sh3\",\"sh5\"],\n",
    "        \"server5\" : [\"sh2\",\"sh5\"]\n",
    "    }\n",
    "}"
   ]
  },
  {
   "cell_type": "code",
   "execution_count": 173,
   "metadata": {},
   "outputs": [
    {
     "data": {
      "text/plain": [
       "{'N': 5, 'message': 'Add Server4, server5', 'status': 'successful'}"
      ]
     },
     "execution_count": 173,
     "metadata": {},
     "output_type": "execute_result"
    }
   ],
   "source": [
    "res = requests.post(\"http://10.171.9.221:5000/add\",json = Payload_Json).json()\n",
    "res"
   ]
  },
  {
   "cell_type": "code",
   "execution_count": 174,
   "metadata": {},
   "outputs": [
    {
     "data": {
      "text/plain": [
       "{'N': 5,\n",
       " 'schema': {'columns': ['Stud_id', 'Stud_name', 'Stud_marks'],\n",
       "  'dtypes': ['Number', 'String', 'String']},\n",
       " 'servers': {'Server0': ['sh1', 'sh2'],\n",
       "  'Server1': ['sh2', 'sh3'],\n",
       "  'Server2': ['sh1', 'sh3'],\n",
       "  'Server4': ['sh3', 'sh5'],\n",
       "  'server5': ['sh2', 'sh5']},\n",
       " 'shards': [{'Shard_id': 'sh1', 'Shard_size': 4096, 'Stud_id_low': 0},\n",
       "  {'Shard_id': 'sh2', 'Shard_size': 4096, 'Stud_id_low': 4096},\n",
       "  {'Shard_id': 'sh3', 'Shard_size': 4096, 'Stud_id_low': 8192},\n",
       "  {'Shard_id': 'sh5', 'Shard_size': 4096, 'Stud_id_low': 12288}]}"
      ]
     },
     "execution_count": 174,
     "metadata": {},
     "output_type": "execute_result"
    }
   ],
   "source": [
    "res = requests.get(\"http://10.171.9.221:5000/status\").json()\n",
    "res"
   ]
  },
  {
   "cell_type": "code",
   "execution_count": null,
   "metadata": {},
   "outputs": [],
   "source": []
  },
  {
   "cell_type": "code",
   "execution_count": 175,
   "metadata": {},
   "outputs": [],
   "source": [
    "Payload_Json= {\n",
    "    \"n\":2,\n",
    "    \"servers\":[\"Server0\",\"Server2\"]\n",
    "}"
   ]
  },
  {
   "cell_type": "code",
   "execution_count": 176,
   "metadata": {},
   "outputs": [
    {
     "data": {
      "text/plain": [
       "{'message': {'N': 3, 'servers': ['Server1', 'Server4', 'server5']},\n",
       " 'status': 'successful'}"
      ]
     },
     "execution_count": 176,
     "metadata": {},
     "output_type": "execute_result"
    }
   ],
   "source": [
    "res = requests.delete(\"http://10.171.9.221:5000/rm\",json=Payload_Json).json()\n",
    "res"
   ]
  },
  {
   "cell_type": "markdown",
   "metadata": {},
   "source": []
  },
  {
   "cell_type": "code",
   "execution_count": 177,
   "metadata": {},
   "outputs": [
    {
     "data": {
      "text/plain": [
       "{'N': 3,\n",
       " 'schema': {'columns': ['Stud_id', 'Stud_name', 'Stud_marks'],\n",
       "  'dtypes': ['Number', 'String', 'String']},\n",
       " 'servers': {'Server1': ['sh2', 'sh3'],\n",
       "  'Server4': ['sh3', 'sh5', 'sh1'],\n",
       "  'server5': ['sh2', 'sh5', 'sh1']},\n",
       " 'shards': [{'Shard_id': 'sh1', 'Shard_size': 4096, 'Stud_id_low': 0},\n",
       "  {'Shard_id': 'sh2', 'Shard_size': 4096, 'Stud_id_low': 4096},\n",
       "  {'Shard_id': 'sh3', 'Shard_size': 4096, 'Stud_id_low': 8192},\n",
       "  {'Shard_id': 'sh5', 'Shard_size': 4096, 'Stud_id_low': 12288}]}"
      ]
     },
     "execution_count": 177,
     "metadata": {},
     "output_type": "execute_result"
    }
   ],
   "source": [
    "res = requests.get(\"http://10.171.9.221:5000/status\").json()\n",
    "res"
   ]
  },
  {
   "cell_type": "code",
   "execution_count": 615,
   "metadata": {},
   "outputs": [],
   "source": [
    "# res = requests.delete(\"https://10.171.9.221:5000/rm\",json = Payload_Json).json()\n",
    "# res"
   ]
  },
  {
   "cell_type": "code",
   "execution_count": 616,
   "metadata": {},
   "outputs": [],
   "source": [
    "# res = requests.get(\"https://10.171.9.221:5000/status\").json()\n",
    "# res"
   ]
  }
 ],
 "metadata": {
  "kernelspec": {
   "display_name": "Python 3",
   "language": "python",
   "name": "python3"
  },
  "language_info": {
   "codemirror_mode": {
    "name": "ipython",
    "version": 3
   },
   "file_extension": ".py",
   "mimetype": "text/x-python",
   "name": "python",
   "nbconvert_exporter": "python",
   "pygments_lexer": "ipython3",
   "version": "3.10.12"
  }
 },
 "nbformat": 4,
 "nbformat_minor": 2
}
