{
 "cells": [
  {
   "cell_type": "code",
   "execution_count": 339,
   "metadata": {},
   "outputs": [],
   "source": [
    "import requests\n",
    "import time"
   ]
  },
  {
   "cell_type": "code",
   "execution_count": 340,
   "metadata": {},
   "outputs": [],
   "source": [
    "Payload_Json= {\n",
    "    \"N\":3,\n",
    "    \"schema\":{\"columns\":[\"Stud_id\",\"Stud_name\",\"Stud_marks\"],\n",
    "    \"dtypes\":[\"Number\",\"String\",\"String\"]},\n",
    "\n",
    "    \"shards\":[{\"Stud_id_low\":0, \"Shard_id\": \"sh1\", \"Shard_size\":4096},\n",
    "    {\"Stud_id_low\":4096, \"Shard_id\": \"sh2\", \"Shard_size\":4096},\n",
    "    {\"Stud_id_low\":8192, \"Shard_id\": \"sh3\", \"Shard_size\":4096}],\n",
    "    \n",
    "    \"servers\":{\"Server0\":[\"sh1\",\"sh2\"],\n",
    "    \"Server1\":[\"sh2\",\"sh3\"],\n",
    "    \"Server2\":[\"sh1\",\"sh3\"]}\n",
    "    }\n"
   ]
  },
  {
   "cell_type": "code",
   "execution_count": 341,
   "metadata": {},
   "outputs": [
    {
     "data": {
      "text/plain": [
       "{'message': 'Configured Database', 'status': 'success'}"
      ]
     },
     "execution_count": 341,
     "metadata": {},
     "output_type": "execute_result"
    }
   ],
   "source": [
    "res = requests.post(\"http://10.171.9.221:5000/init\",json=Payload_Json).json()\n",
    "res"
   ]
  },
  {
   "cell_type": "code",
   "execution_count": 342,
   "metadata": {},
   "outputs": [
    {
     "data": {
      "text/plain": [
       "{'N': 3,\n",
       " 'schema': {'columns': ['Stud_id', 'Stud_name', 'Stud_marks'],\n",
       "  'dtypes': ['Number', 'String', 'String']},\n",
       " 'servers': {'Server0': ['sh1', 'sh2'],\n",
       "  'Server1': ['sh2', 'sh3'],\n",
       "  'Server2': ['sh1', 'sh3']},\n",
       " 'shards': [{'Shard_id': 'sh1',\n",
       "   'Shard_size': 4096,\n",
       "   'Stud_id_low': 0,\n",
       "   'primary_server': 'Server2'},\n",
       "  {'Shard_id': 'sh2',\n",
       "   'Shard_size': 4096,\n",
       "   'Stud_id_low': 4096,\n",
       "   'primary_server': 'Server0'},\n",
       "  {'Shard_id': 'sh3',\n",
       "   'Shard_size': 4096,\n",
       "   'Stud_id_low': 8192,\n",
       "   'primary_server': 'Server1'}]}"
      ]
     },
     "execution_count": 342,
     "metadata": {},
     "output_type": "execute_result"
    }
   ],
   "source": [
    "res = requests.get(\"http://10.171.9.221:5000/status\").json()\n",
    "res\n"
   ]
  },
  {
   "cell_type": "code",
   "execution_count": 343,
   "metadata": {},
   "outputs": [],
   "source": [
    "Payload_Json = {\n",
    "    \"data\":[\n",
    "        {\"Stud_id\":2255,\"Stud_name\":\"GHI\",\"Stud_marks\":27}, \n",
    "        {\"Stud_id\":3524,\"Stud_name\":\"JKBFSFS\",\"Stud_marks\":56},\n",
    "        {\"Stud_id\":1005,\"Stud_name\":\"YUBAAD\",\"Stud_marks\":100},\n",
    "        {\"Stud_id\":6235,\"Stud_name\":\"GHI\",\"Stud_marks\":27}, \n",
    "        {\"Stud_id\":9524,\"Stud_name\":\"JKBFSFS\",\"Stud_marks\":56},\n",
    "        {\"Stud_id\":10005,\"Stud_name\":\"YUBAAD\",\"Stud_marks\":100},\n",
    "        {\"Stud_id\":2355,\"Stud_name\":\"GHI\",\"Stud_marks\":27}, \n",
    "        {\"Stud_id\":6524,\"Stud_name\":\"JKBFSFS\",\"Stud_marks\":56},\n",
    "        {\"Stud_id\":1095,\"Stud_name\":\"YUBAAD\",\"Stud_marks\":100},\n",
    "        {\"Stud_id\":5324,\"Stud_name\":\"JKBFSFS\",\"Stud_marks\":56}\n",
    "    ]\n",
    "}\n",
    "# copy = {'sh3': \"[{'Stud_id': 9524, 'Stud_name': 'JKBFSFS', 'Stud_marks': '56'}, {'Stud_id': 10005, 'Stud_name': 'YUBAAD', 'Stud_marks': '100'}]\", 'status': 'success'}"
   ]
  },
  {
   "cell_type": "code",
   "execution_count": 344,
   "metadata": {},
   "outputs": [],
   "source": [
    "# list(copy[\"sh3\"])"
   ]
  },
  {
   "cell_type": "code",
   "execution_count": 345,
   "metadata": {},
   "outputs": [
    {
     "data": {
      "text/plain": [
       "{'N': 3,\n",
       " 'schema': {'columns': ['Stud_id', 'Stud_name', 'Stud_marks'],\n",
       "  'dtypes': ['Number', 'String', 'String']},\n",
       " 'servers': {'Server0': ['sh1', 'sh2'],\n",
       "  'Server1': ['sh2', 'sh3'],\n",
       "  'Server2': ['sh1', 'sh3']},\n",
       " 'shards': [{'Shard_id': 'sh1',\n",
       "   'Shard_size': 4096,\n",
       "   'Stud_id_low': 0,\n",
       "   'primary_server': 'Server2'},\n",
       "  {'Shard_id': 'sh2',\n",
       "   'Shard_size': 4096,\n",
       "   'Stud_id_low': 4096,\n",
       "   'primary_server': 'Server0'},\n",
       "  {'Shard_id': 'sh3',\n",
       "   'Shard_size': 4096,\n",
       "   'Stud_id_low': 8192,\n",
       "   'primary_server': 'Server1'}]}"
      ]
     },
     "execution_count": 345,
     "metadata": {},
     "output_type": "execute_result"
    }
   ],
   "source": [
    "res = requests.get(\"http://10.171.9.221:5000/status\").json()\n",
    "res"
   ]
  },
  {
   "cell_type": "code",
   "execution_count": 346,
   "metadata": {},
   "outputs": [
    {
     "data": {
      "text/plain": [
       "{'message': '10 Data entries added', 'status': 'success'}"
      ]
     },
     "execution_count": 346,
     "metadata": {},
     "output_type": "execute_result"
    }
   ],
   "source": [
    "res = requests.post(\"http://10.171.9.221:5000/write\",json=Payload_Json).json()\n",
    "res"
   ]
  },
  {
   "cell_type": "code",
   "execution_count": null,
   "metadata": {},
   "outputs": [],
   "source": []
  },
  {
   "cell_type": "code",
   "execution_count": 347,
   "metadata": {},
   "outputs": [],
   "source": [
    "Payload_Json = {\n",
    "    \"Stud_id\" : {\"low\":1000,\"high\":8899}\n",
    "}"
   ]
  },
  {
   "cell_type": "code",
   "execution_count": 348,
   "metadata": {},
   "outputs": [
    {
     "data": {
      "text/plain": [
       "{'data': [{'Stud_id': 1005, 'Stud_marks': '100', 'Stud_name': 'YUBAAD'},\n",
       "  {'Stud_id': 1095, 'Stud_marks': '100', 'Stud_name': 'YUBAAD'},\n",
       "  {'Stud_id': 2255, 'Stud_marks': '27', 'Stud_name': 'GHI'},\n",
       "  {'Stud_id': 2355, 'Stud_marks': '27', 'Stud_name': 'GHI'},\n",
       "  {'Stud_id': 3524, 'Stud_marks': '56', 'Stud_name': 'JKBFSFS'},\n",
       "  {'Stud_id': 5324, 'Stud_marks': '56', 'Stud_name': 'JKBFSFS'},\n",
       "  {'Stud_id': 6235, 'Stud_marks': '27', 'Stud_name': 'GHI'},\n",
       "  {'Stud_id': 6524, 'Stud_marks': '56', 'Stud_name': 'JKBFSFS'}],\n",
       " 'shards_queried': ['sh1', 'sh2', 'sh3'],\n",
       " 'status': 'success'}"
      ]
     },
     "execution_count": 348,
     "metadata": {},
     "output_type": "execute_result"
    }
   ],
   "source": [
    "# start = time.perf_counter()\n",
    "\n",
    "res = requests.post(\"http://10.171.9.221:5000/read\",json = Payload_Json).json()\n",
    "res\n",
    "# print(res.elapsed.total_seconds())\n",
    "# request_time = time.perf_counter() - start\n",
    "# print(\"Request completed in {0:.4f} seconds\".format(request_time))"
   ]
  },
  {
   "cell_type": "code",
   "execution_count": 349,
   "metadata": {},
   "outputs": [],
   "source": [
    "Payload_Json = {\n",
    "    \"Stud_id\" : 2255,\n",
    "    \"data\" :{\"Stud_id\":2255,\"Stud_name\":\"GHI\",\"Stud_marks\":30}\n",
    "}"
   ]
  },
  {
   "cell_type": "code",
   "execution_count": 350,
   "metadata": {},
   "outputs": [
    {
     "data": {
      "text/plain": [
       "{'message': 'Data entry for Stud_id: 2255 updated in 1, Failed in 0',\n",
       " 'status': 'success'}"
      ]
     },
     "execution_count": 350,
     "metadata": {},
     "output_type": "execute_result"
    }
   ],
   "source": [
    "res = requests.put(\"http://10.171.9.221:5000/update\",json = Payload_Json).json()\n",
    "res"
   ]
  },
  {
   "cell_type": "code",
   "execution_count": 351,
   "metadata": {},
   "outputs": [],
   "source": [
    "Payload_Json = {\n",
    "    \"Stud_id\":2255\n",
    "}"
   ]
  },
  {
   "cell_type": "code",
   "execution_count": 352,
   "metadata": {},
   "outputs": [
    {
     "data": {
      "text/plain": [
       "{'message': 'Data entry with Stud_id:2255 removed in 1, Failed in 0',\n",
       " 'status': 'success'}"
      ]
     },
     "execution_count": 352,
     "metadata": {},
     "output_type": "execute_result"
    }
   ],
   "source": [
    "res = requests.delete(\"http://10.171.9.221:5000/del\",json = Payload_Json).json()\n",
    "res"
   ]
  },
  {
   "cell_type": "code",
   "execution_count": 353,
   "metadata": {},
   "outputs": [],
   "source": [
    "Payload_Json = {\n",
    "    \"Stud_id\" : {\"low\":1000,\"high\":8899}\n",
    "}"
   ]
  },
  {
   "cell_type": "code",
   "execution_count": 354,
   "metadata": {},
   "outputs": [
    {
     "data": {
      "text/plain": [
       "{'data': [{'Stud_id': 1005, 'Stud_marks': '100', 'Stud_name': 'YUBAAD'},\n",
       "  {'Stud_id': 1095, 'Stud_marks': '100', 'Stud_name': 'YUBAAD'},\n",
       "  {'Stud_id': 2355, 'Stud_marks': '27', 'Stud_name': 'GHI'},\n",
       "  {'Stud_id': 3524, 'Stud_marks': '56', 'Stud_name': 'JKBFSFS'},\n",
       "  {'Stud_id': 5324, 'Stud_marks': '56', 'Stud_name': 'JKBFSFS'},\n",
       "  {'Stud_id': 6235, 'Stud_marks': '27', 'Stud_name': 'GHI'},\n",
       "  {'Stud_id': 6524, 'Stud_marks': '56', 'Stud_name': 'JKBFSFS'}],\n",
       " 'shards_queried': ['sh1', 'sh2', 'sh3'],\n",
       " 'status': 'success'}"
      ]
     },
     "execution_count": 354,
     "metadata": {},
     "output_type": "execute_result"
    }
   ],
   "source": [
    "res = requests.post(\"http://10.171.9.221:5000/read\",json = Payload_Json).json()\n",
    "res"
   ]
  },
  {
   "cell_type": "code",
   "execution_count": 355,
   "metadata": {},
   "outputs": [
    {
     "data": {
      "text/plain": [
       "{'N': 3,\n",
       " 'schema': {'columns': ['Stud_id', 'Stud_name', 'Stud_marks'],\n",
       "  'dtypes': ['Number', 'String', 'String']},\n",
       " 'servers': {'Server0': ['sh1', 'sh2'],\n",
       "  'Server1': ['sh2', 'sh3'],\n",
       "  'Server2': ['sh1', 'sh3']},\n",
       " 'shards': [{'Shard_id': 'sh1',\n",
       "   'Shard_size': 4096,\n",
       "   'Stud_id_low': 0,\n",
       "   'primary_server': 'Server2'},\n",
       "  {'Shard_id': 'sh2',\n",
       "   'Shard_size': 4096,\n",
       "   'Stud_id_low': 4096,\n",
       "   'primary_server': 'Server0'},\n",
       "  {'Shard_id': 'sh3',\n",
       "   'Shard_size': 4096,\n",
       "   'Stud_id_low': 8192,\n",
       "   'primary_server': 'Server1'}]}"
      ]
     },
     "execution_count": 355,
     "metadata": {},
     "output_type": "execute_result"
    }
   ],
   "source": [
    "res = requests.get(\"http://10.171.9.221:5000/status\").json()\n",
    "res"
   ]
  },
  {
   "cell_type": "code",
   "execution_count": 356,
   "metadata": {},
   "outputs": [],
   "source": [
    "Payload_Json = {\n",
    "    \"n\" : 2,\n",
    "    \"new_shards\" :[{\"Stud_id_low\":12288, \"Shard_id\": \"sh5\", \"Shard_size\":4096}],\n",
    "    \"servers\":{\n",
    "        \"Server4\" : [\"sh3\",\"sh5\"],\n",
    "        \"Server5\" : [\"sh2\",\"sh5\"]\n",
    "    }\n",
    "}\n"
   ]
  },
  {
   "cell_type": "code",
   "execution_count": 357,
   "metadata": {},
   "outputs": [
    {
     "data": {
      "text/plain": [
       "{'N': 5, 'message': 'Add Server4, server5', 'status': 'successful'}"
      ]
     },
     "execution_count": 357,
     "metadata": {},
     "output_type": "execute_result"
    }
   ],
   "source": [
    "res = requests.post(\"http://10.171.9.221:5000/add\",json = Payload_Json).json()\n",
    "res"
   ]
  },
  {
   "cell_type": "code",
   "execution_count": 359,
   "metadata": {},
   "outputs": [
    {
     "data": {
      "text/plain": [
       "{'N': 5,\n",
       " 'schema': {'columns': ['Stud_id', 'Stud_name', 'Stud_marks'],\n",
       "  'dtypes': ['Number', 'String', 'String']},\n",
       " 'servers': {'Server0': ['sh1', 'sh2'],\n",
       "  'Server1': ['sh2', 'sh3'],\n",
       "  'Server2': ['sh1', 'sh3'],\n",
       "  'Server4': ['sh3', 'sh5'],\n",
       "  'server5': ['sh2', 'sh5']},\n",
       " 'shards': [{'Shard_id': 'sh1',\n",
       "   'Shard_size': 4096,\n",
       "   'Stud_id_low': 0,\n",
       "   'primary_server': 'Server2'},\n",
       "  {'Shard_id': 'sh2',\n",
       "   'Shard_size': 4096,\n",
       "   'Stud_id_low': 4096,\n",
       "   'primary_server': 'Server0'},\n",
       "  {'Shard_id': 'sh3',\n",
       "   'Shard_size': 4096,\n",
       "   'Stud_id_low': 8192,\n",
       "   'primary_server': 'Server1'},\n",
       "  {'Shard_id': 'sh5',\n",
       "   'Shard_size': 4096,\n",
       "   'Stud_id_low': 12288,\n",
       "   'primary_server': 'server5'}]}"
      ]
     },
     "execution_count": 359,
     "metadata": {},
     "output_type": "execute_result"
    }
   ],
   "source": [
    "res = requests.get(\"http://10.171.9.221:5000/status\").json()\n",
    "res"
   ]
  },
  {
   "cell_type": "code",
   "execution_count": null,
   "metadata": {},
   "outputs": [],
   "source": []
  },
  {
   "cell_type": "code",
   "execution_count": 82,
   "metadata": {},
   "outputs": [],
   "source": [
    "Payload_Json= {\n",
    "    \"n\":2,\n",
    "    \"servers\":[\"Server0\",\"Server2\"]\n",
    "}"
   ]
  },
  {
   "cell_type": "code",
   "execution_count": 83,
   "metadata": {},
   "outputs": [
    {
     "data": {
      "text/plain": [
       "{'message': {'N': 3, 'servers': ['Server1', 'Server4', 'server5']},\n",
       " 'status': 'successful'}"
      ]
     },
     "execution_count": 83,
     "metadata": {},
     "output_type": "execute_result"
    }
   ],
   "source": [
    "res = requests.delete(\"http://10.171.9.221:5000/rm\",json=Payload_Json).json()\n",
    "res"
   ]
  },
  {
   "cell_type": "markdown",
   "metadata": {},
   "source": []
  },
  {
   "cell_type": "code",
   "execution_count": null,
   "metadata": {},
   "outputs": [],
   "source": [
    "res = requests.get(\"http://10.171.9.221:5000/status\").json()\n",
    "res"
   ]
  },
  {
   "cell_type": "code",
   "execution_count": null,
   "metadata": {},
   "outputs": [],
   "source": [
    "# res = requests.delete(\"https://10.171.9.221:5000/rm\",json = Payload_Json).json()\n",
    "# res"
   ]
  },
  {
   "cell_type": "code",
   "execution_count": null,
   "metadata": {},
   "outputs": [],
   "source": [
    "# res = requests.get(\"https://10.171.9.221:5000/status\").json()\n",
    "# res"
   ]
  }
 ],
 "metadata": {
  "kernelspec": {
   "display_name": "Python 3",
   "language": "python",
   "name": "python3"
  },
  "language_info": {
   "codemirror_mode": {
    "name": "ipython",
    "version": 3
   },
   "file_extension": ".py",
   "mimetype": "text/x-python",
   "name": "python",
   "nbconvert_exporter": "python",
   "pygments_lexer": "ipython3",
   "version": "3.10.12"
  }
 },
 "nbformat": 4,
 "nbformat_minor": 2
}
