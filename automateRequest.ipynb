{
 "cells": [
  {
   "cell_type": "code",
   "execution_count": 46,
   "metadata": {},
   "outputs": [],
   "source": [
    "import requests"
   ]
  },
  {
   "cell_type": "code",
   "execution_count": 47,
   "metadata": {},
   "outputs": [],
   "source": [
    "# res = requests.get(\"http://10.171.9.221:5000/rep\").json()\n",
    "# res"
   ]
  },
  {
   "cell_type": "code",
   "execution_count": 48,
   "metadata": {},
   "outputs": [],
   "source": [
    "Payload_Json= {\n",
    "    \"N\":3,\n",
    "    \"schema\":{\"columns\":[\"Stud_id\",\"Stud_name\",\"Stud_marks\"],\n",
    "    \"dtypes\":[\"Number\",\"String\",\"String\"]},\n",
    "\n",
    "    \"shards\":[{\"Stud_id_low\":0, \"Shard_id\": \"sh1\", \"Shard_size\":4096},\n",
    "    {\"Stud_id_low\":4096, \"Shard_id\": \"sh2\", \"Shard_size\":4096},\n",
    "    {\"Stud_id_low\":8192, \"Shard_id\": \"sh3\", \"Shard_size\":4096}],\n",
    "    \n",
    "    \"servers\":{\"Server0\":[\"sh1\",\"sh2\"],\n",
    "    \"Server1\":[\"sh2\",\"sh3\"],\n",
    "    \"Server2\":[\"sh1\",\"sh3\"]}\n",
    "    }\n"
   ]
  },
  {
   "cell_type": "code",
   "execution_count": 49,
   "metadata": {},
   "outputs": [
    {
     "data": {
      "text/plain": [
       "{'message': 'Configured Database', 'status': 'success'}"
      ]
     },
     "execution_count": 49,
     "metadata": {},
     "output_type": "execute_result"
    }
   ],
   "source": [
    "res = requests.post(\"http://10.171.9.221:5000/init\",json=Payload_Json).json()\n",
    "res"
   ]
  },
  {
   "cell_type": "code",
   "execution_count": 50,
   "metadata": {},
   "outputs": [
    {
     "data": {
      "text/plain": [
       "{'N': 3,\n",
       " 'schema': {'columns': ['Stud_id', 'Stud_name', 'Stud_marks'],\n",
       "  'dtypes': ['Number', 'String', 'String']},\n",
       " 'servers': {'Server0': ['sh1', 'sh2'],\n",
       "  'Server1': ['sh2', 'sh3'],\n",
       "  'Server2': ['sh1', 'sh3']},\n",
       " 'shards': [{'Shard_id': 'sh1', 'Shard_size': 4096, 'Stud_id_low': 0},\n",
       "  {'Shard_id': 'sh2', 'Shard_size': 4096, 'Stud_id_low': 4096},\n",
       "  {'Shard_id': 'sh3', 'Shard_size': 4096, 'Stud_id_low': 8192}]}"
      ]
     },
     "execution_count": 50,
     "metadata": {},
     "output_type": "execute_result"
    }
   ],
   "source": [
    "res = requests.get(\"http://10.171.9.221:5000/status\").json()\n",
    "res"
   ]
  },
  {
   "cell_type": "code",
   "execution_count": 51,
   "metadata": {},
   "outputs": [],
   "source": [
    "Payload_Json = {\n",
    "    \"data\":[\n",
    "        {\"Stud_id\":2255,\"Stud_name\":\"GHI\",\"Stud_marks\":27}, \n",
    "        {\"Stud_id\":3524,\"Stud_name\":\"JKBFSFS\",\"Stud_marks\":56},\n",
    "        {\"Stud_id\":1005,\"Stud_name\":\"YUBAAD\",\"Stud_marks\":100},\n",
    "        {\"Stud_id\":6235,\"Stud_name\":\"GHI\",\"Stud_marks\":27}, \n",
    "        {\"Stud_id\":9524,\"Stud_name\":\"JKBFSFS\",\"Stud_marks\":56},\n",
    "        {\"Stud_id\":10005,\"Stud_name\":\"YUBAAD\",\"Stud_marks\":100},\n",
    "        {\"Stud_id\":2355,\"Stud_name\":\"GHI\",\"Stud_marks\":27}, \n",
    "        {\"Stud_id\":6524,\"Stud_name\":\"JKBFSFS\",\"Stud_marks\":56},\n",
    "        {\"Stud_id\":1095,\"Stud_name\":\"YUBAAD\",\"Stud_marks\":100},\n",
    "        {\"Stud_id\":5324,\"Stud_name\":\"JKBFSFS\",\"Stud_marks\":56}\n",
    "    ]\n",
    "}"
   ]
  },
  {
   "cell_type": "code",
   "execution_count": 52,
   "metadata": {},
   "outputs": [
    {
     "data": {
      "text/plain": [
       "{'N': 3,\n",
       " 'schema': {'columns': ['Stud_id', 'Stud_name', 'Stud_marks'],\n",
       "  'dtypes': ['Number', 'String', 'String']},\n",
       " 'servers': {'Server0': ['sh1', 'sh2'],\n",
       "  'Server1': ['sh2', 'sh3'],\n",
       "  'Server2': ['sh1', 'sh3']},\n",
       " 'shards': [{'Shard_id': 'sh1', 'Shard_size': 4096, 'Stud_id_low': 0},\n",
       "  {'Shard_id': 'sh2', 'Shard_size': 4096, 'Stud_id_low': 4096},\n",
       "  {'Shard_id': 'sh3', 'Shard_size': 4096, 'Stud_id_low': 8192}]}"
      ]
     },
     "execution_count": 52,
     "metadata": {},
     "output_type": "execute_result"
    }
   ],
   "source": [
    "res = requests.get(\"http://10.171.9.221:5000/status\").json()\n",
    "res"
   ]
  },
  {
   "cell_type": "code",
   "execution_count": 53,
   "metadata": {},
   "outputs": [
    {
     "data": {
      "text/plain": [
       "{'message': '20 Data entries added', 'status': 'success'}"
      ]
     },
     "execution_count": 53,
     "metadata": {},
     "output_type": "execute_result"
    }
   ],
   "source": [
    "res = requests.post(\"http://10.171.9.221:5000/write\",json=Payload_Json).json()\n",
    "res"
   ]
  },
  {
   "cell_type": "code",
   "execution_count": null,
   "metadata": {},
   "outputs": [],
   "source": []
  },
  {
   "cell_type": "code",
   "execution_count": 54,
   "metadata": {},
   "outputs": [],
   "source": [
    "Payload_Json = {\n",
    "    \"Stud_id\" : {\"low\":1000,\"high\":8899}\n",
    "}"
   ]
  },
  {
   "cell_type": "code",
   "execution_count": 55,
   "metadata": {},
   "outputs": [
    {
     "data": {
      "text/plain": [
       "{'data': [{'Stud_id': 1005, 'Stud_marks': '100', 'Stud_name': 'YUBAAD'},\n",
       "  {'Stud_id': 1095, 'Stud_marks': '100', 'Stud_name': 'YUBAAD'},\n",
       "  {'Stud_id': 2255, 'Stud_marks': '27', 'Stud_name': 'GHI'},\n",
       "  {'Stud_id': 2355, 'Stud_marks': '27', 'Stud_name': 'GHI'},\n",
       "  {'Stud_id': 3524, 'Stud_marks': '56', 'Stud_name': 'JKBFSFS'},\n",
       "  {'Stud_id': 5324, 'Stud_marks': '56', 'Stud_name': 'JKBFSFS'},\n",
       "  {'Stud_id': 6235, 'Stud_marks': '27', 'Stud_name': 'GHI'},\n",
       "  {'Stud_id': 6524, 'Stud_marks': '56', 'Stud_name': 'JKBFSFS'}],\n",
       " 'shards_queried': ['sh1', 'sh2', 'sh3'],\n",
       " 'status': 'success'}"
      ]
     },
     "execution_count": 55,
     "metadata": {},
     "output_type": "execute_result"
    }
   ],
   "source": [
    "res = requests.post(\"http://10.171.9.221:5000/read\",json = Payload_Json).json()\n",
    "res"
   ]
  },
  {
   "cell_type": "code",
   "execution_count": 56,
   "metadata": {},
   "outputs": [],
   "source": [
    "Payload_Json = {\n",
    "    \"Stud_id\" : 2255,\n",
    "    \"data\" :{\"Stud_id\":2255,\"Stud_name\":\"GHI\",\"Stud_marks\":30}\n",
    "}"
   ]
  },
  {
   "cell_type": "code",
   "execution_count": 57,
   "metadata": {},
   "outputs": [
    {
     "data": {
      "text/plain": [
       "{'message': 'Data entry for Stud_id: 2255 updated', 'status': 'success'}"
      ]
     },
     "execution_count": 57,
     "metadata": {},
     "output_type": "execute_result"
    }
   ],
   "source": [
    "res = requests.put(\"http://10.171.9.221:5000/update\",json = Payload_Json).json()\n",
    "res"
   ]
  },
  {
   "cell_type": "code",
   "execution_count": 58,
   "metadata": {},
   "outputs": [],
   "source": [
    "Payload_Json = {\n",
    "    \"Stud_id\":2255\n",
    "}"
   ]
  },
  {
   "cell_type": "code",
   "execution_count": 59,
   "metadata": {},
   "outputs": [
    {
     "data": {
      "text/plain": [
       "{'message': 'Data entry with Stud_id:2255 removed from all replicas',\n",
       " 'status': 'success'}"
      ]
     },
     "execution_count": 59,
     "metadata": {},
     "output_type": "execute_result"
    }
   ],
   "source": [
    "res = requests.delete(\"http://10.171.9.221:5000/del\",json = Payload_Json).json()\n",
    "res"
   ]
  },
  {
   "cell_type": "code",
   "execution_count": 60,
   "metadata": {},
   "outputs": [],
   "source": [
    "Payload_Json = {\n",
    "    \"Stud_id\" : {\"low\":1000,\"high\":8899}\n",
    "}"
   ]
  },
  {
   "cell_type": "code",
   "execution_count": 61,
   "metadata": {},
   "outputs": [
    {
     "data": {
      "text/plain": [
       "{'data': [{'Stud_id': 1005, 'Stud_marks': '100', 'Stud_name': 'YUBAAD'},\n",
       "  {'Stud_id': 1095, 'Stud_marks': '100', 'Stud_name': 'YUBAAD'},\n",
       "  {'Stud_id': 2355, 'Stud_marks': '27', 'Stud_name': 'GHI'},\n",
       "  {'Stud_id': 3524, 'Stud_marks': '56', 'Stud_name': 'JKBFSFS'},\n",
       "  {'Stud_id': 5324, 'Stud_marks': '56', 'Stud_name': 'JKBFSFS'},\n",
       "  {'Stud_id': 6235, 'Stud_marks': '27', 'Stud_name': 'GHI'},\n",
       "  {'Stud_id': 6524, 'Stud_marks': '56', 'Stud_name': 'JKBFSFS'}],\n",
       " 'shards_queried': ['sh1', 'sh2', 'sh3'],\n",
       " 'status': 'success'}"
      ]
     },
     "execution_count": 61,
     "metadata": {},
     "output_type": "execute_result"
    }
   ],
   "source": [
    "res = requests.post(\"http://10.171.9.221:5000/read\",json = Payload_Json).json()\n",
    "res"
   ]
  },
  {
   "cell_type": "code",
   "execution_count": 62,
   "metadata": {},
   "outputs": [
    {
     "data": {
      "text/plain": [
       "{'N': 3,\n",
       " 'schema': {'columns': ['Stud_id', 'Stud_name', 'Stud_marks'],\n",
       "  'dtypes': ['Number', 'String', 'String']},\n",
       " 'servers': {'Server0': ['sh1', 'sh2'],\n",
       "  'Server1': ['sh2', 'sh3'],\n",
       "  'Server2': ['sh1', 'sh3']},\n",
       " 'shards': [{'Shard_id': 'sh1', 'Shard_size': 4096, 'Stud_id_low': 0},\n",
       "  {'Shard_id': 'sh2', 'Shard_size': 4096, 'Stud_id_low': 4096},\n",
       "  {'Shard_id': 'sh3', 'Shard_size': 4096, 'Stud_id_low': 8192}]}"
      ]
     },
     "execution_count": 62,
     "metadata": {},
     "output_type": "execute_result"
    }
   ],
   "source": [
    "res = requests.get(\"http://10.171.9.221:5000/status\").json()\n",
    "res"
   ]
  },
  {
   "cell_type": "code",
   "execution_count": 63,
   "metadata": {},
   "outputs": [],
   "source": [
    "Payload_Json = {\n",
    "    \"n\" : 2,\n",
    "    \"new_shards\" :[{\"Stud_id_low\":12288, \"Shard_id\": \"sh5\", \"Shard_size\":4096}],\n",
    "    \"servers\":{\n",
    "        \"Server4\" : [\"sh3\",\"sh5\"],\n",
    "        \"server5\" : [\"sh2\",\"sh5\"]\n",
    "    }\n",
    "}"
   ]
  },
  {
   "cell_type": "code",
   "execution_count": 65,
   "metadata": {},
   "outputs": [
    {
     "data": {
      "text/plain": [
       "{'message': \"Error during adding new servers: 'current_idx'\",\n",
       " 'status': 'error'}"
      ]
     },
     "execution_count": 65,
     "metadata": {},
     "output_type": "execute_result"
    }
   ],
   "source": [
    "res = requests.post(\"http://10.171.9.221:5000/add\",json = Payload_Json).json()\n",
    "res"
   ]
  },
  {
   "cell_type": "code",
   "execution_count": 611,
   "metadata": {},
   "outputs": [
    {
     "data": {
      "text/plain": [
       "{'N': 5,\n",
       " 'schema': {'columns': ['Stud_id', 'Stud_name', 'Stud_marks'],\n",
       "  'dtypes': ['Number', 'String', 'String']},\n",
       " 'servers': {'Server0': ['sh1', 'sh2'],\n",
       "  'Server1': ['sh2', 'sh3'],\n",
       "  'Server2': ['sh1', 'sh3'],\n",
       "  'Server4': ['sh3', 'sh5'],\n",
       "  'server5': ['sh2', 'sh5']},\n",
       " 'shards': [{'Shard_id': 'sh1', 'Shard_size': 4096, 'Stud_id_low': 0},\n",
       "  {'Shard_id': 'sh2', 'Shard_size': 4096, 'Stud_id_low': 4096},\n",
       "  {'Shard_id': 'sh3', 'Shard_size': 4096, 'Stud_id_low': 8192},\n",
       "  {'Shard_id': 'sh5', 'Shard_size': 4096, 'Stud_id_low': 12288}]}"
      ]
     },
     "execution_count": 611,
     "metadata": {},
     "output_type": "execute_result"
    }
   ],
   "source": [
    "res = requests.get(\"http://10.171.9.221:5000/status\").json()\n",
    "res"
   ]
  },
  {
   "cell_type": "code",
   "execution_count": null,
   "metadata": {},
   "outputs": [],
   "source": []
  },
  {
   "cell_type": "code",
   "execution_count": 617,
   "metadata": {},
   "outputs": [],
   "source": [
    "Payload_Json= {\n",
    "    \"n\":2,\n",
    "    \"servers\":[\"Server0\",\"Server1\"]\n",
    "}"
   ]
  },
  {
   "cell_type": "code",
   "execution_count": 618,
   "metadata": {},
   "outputs": [
    {
     "data": {
      "text/plain": [
       "{'message': {'N': 2, 'servers': ['Server2', 'server5']},\n",
       " 'status': 'successful'}"
      ]
     },
     "execution_count": 618,
     "metadata": {},
     "output_type": "execute_result"
    }
   ],
   "source": [
    "res = requests.delete(\"http://10.171.9.221:5000/rm\",json=Payload_Json).json()\n",
    "res"
   ]
  },
  {
   "cell_type": "markdown",
   "metadata": {},
   "source": []
  },
  {
   "cell_type": "code",
   "execution_count": 614,
   "metadata": {},
   "outputs": [],
   "source": [
    "# res = requests.get(\"http://10.171.9.221:5000/status\").json()\n",
    "# res"
   ]
  },
  {
   "cell_type": "code",
   "execution_count": 615,
   "metadata": {},
   "outputs": [],
   "source": [
    "# res = requests.delete(\"https://10.171.9.221:5000/rm\",json = Payload_Json).json()\n",
    "# res"
   ]
  },
  {
   "cell_type": "code",
   "execution_count": 616,
   "metadata": {},
   "outputs": [],
   "source": [
    "# res = requests.get(\"https://10.171.9.221:5000/status\").json()\n",
    "# res"
   ]
  }
 ],
 "metadata": {
  "kernelspec": {
   "display_name": "Python 3",
   "language": "python",
   "name": "python3"
  },
  "language_info": {
   "codemirror_mode": {
    "name": "ipython",
    "version": 3
   },
   "file_extension": ".py",
   "mimetype": "text/x-python",
   "name": "python",
   "nbconvert_exporter": "python",
   "pygments_lexer": "ipython3",
   "version": "3.10.12"
  }
 },
 "nbformat": 4,
 "nbformat_minor": 2
}
