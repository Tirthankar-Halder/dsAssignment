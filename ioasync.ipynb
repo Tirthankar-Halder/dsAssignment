{
 "cells": [
  {
   "cell_type": "code",
   "execution_count": 27,
   "metadata": {},
   "outputs": [],
   "source": [
    "import asyncio\n",
    "import aiohttp\n",
    "import requests\n",
    "import json\n",
    "import time\n",
    "import numpy as np\n",
    "import matplotlib.pyplot as plt\n",
    "from collections import defaultdict"
   ]
  },
  {
   "cell_type": "code",
   "execution_count": 2,
   "metadata": {},
   "outputs": [],
   "source": [
    "async def make_request(session, url):\n",
    "    async with session.get(url) as response:\n",
    "        return await response.text()\n",
    "\n",
    "async def sim_calls(num_requests):\n",
    "    url = \"http://10.171.9.221:5000/home\"\n",
    "    results = defaultdict(lambda :0)\n",
    "\n",
    "    async with aiohttp.ClientSession() as session:\n",
    "        tasks = [make_request(session, url) for _ in range(num_requests)]\n",
    "        responses = await asyncio.gather(*tasks)\n",
    "\n",
    "    for response in responses:\n",
    "        #print(response)\n",
    "        server = json.loads(response)[\"message\"].split(\":\")[-1].strip()\n",
    "        results[server] += 1\n",
    "\n",
    "    print(\"Requests handled by each server instance:\")\n",
    "    return results"
   ]
  },
  {
   "cell_type": "code",
   "execution_count": 3,
   "metadata": {},
   "outputs": [
    {
     "name": "stdout",
     "output_type": "stream",
     "text": [
      "Requests handled by each server instance:\n",
      "{2: {'Server_195839': 425, 'Server_148122': 575}}\n",
      "added\n",
      "Requests handled by each server instance:\n",
      "{2: {'Server_195839': 425, 'Server_148122': 575}, 3: {'RandomServer814578': 220, 'Server_148122': 458, 'Server_195839': 322}}\n",
      "added\n",
      "Requests handled by each server instance:\n",
      "{2: {'Server_195839': 425, 'Server_148122': 575}, 3: {'RandomServer814578': 220, 'Server_148122': 458, 'Server_195839': 322}, 4: {'Server_148122': 412, 'Server_195839': 259, 'RandomServer884333': 113, 'RandomServer814578': 216}}\n",
      "added\n",
      "Requests handled by each server instance:\n",
      "{2: {'Server_195839': 425, 'Server_148122': 575}, 3: {'RandomServer814578': 220, 'Server_148122': 458, 'Server_195839': 322}, 4: {'Server_148122': 412, 'Server_195839': 259, 'RandomServer884333': 113, 'RandomServer814578': 216}, 5: {'RandomServer390935': 253, 'Server_195839': 158, 'Server_148122': 266, 'RandomServer814578': 208, 'RandomServer884333': 115}}\n",
      "added\n",
      "Requests handled by each server instance:\n",
      "{2: {'Server_195839': 425, 'Server_148122': 575}, 3: {'RandomServer814578': 220, 'Server_148122': 458, 'Server_195839': 322}, 4: {'Server_148122': 412, 'Server_195839': 259, 'RandomServer884333': 113, 'RandomServer814578': 216}, 5: {'RandomServer390935': 253, 'Server_195839': 158, 'Server_148122': 266, 'RandomServer814578': 208, 'RandomServer884333': 115}, 6: {'Server_195839': 140, 'RandomServer390935': 255, 'RandomServer814578': 184, 'RandomServer884333': 113, 'Server_148122': 247, 'RandomServer470157': 61}}\n"
     ]
    }
   ],
   "source": [
    "\n",
    "if __name__ == \"__main__\":\n",
    "    l={}\n",
    "    for r in range(5): #0:2 1:3 2:4 3:5 4:6: 7\n",
    "        num_rep=requests.get(\"http://10.171.9.221:5000/rep\").json()[\"message\"][\"N\"]\n",
    "        load = await asyncio.wait_for(sim_calls(1000),timeout=None)\n",
    "        l[num_rep]=dict(load)\n",
    "        print(l)\n",
    "\n",
    "        if r<4:\n",
    "            status=requests.post(\"http://10.171.9.221:5000/add\",json={'n':1}).status_code\n",
    "            if status==200:\n",
    "                print(\"added\")\n",
    "            else:\n",
    "                print(\"can not add\")\n",
    "            time.sleep(10)"
   ]
  },
  {
   "cell_type": "code",
   "execution_count": 4,
   "metadata": {},
   "outputs": [
    {
     "data": {
      "text/plain": [
       "<BarContainer object of 5 artists>"
      ]
     },
     "execution_count": 4,
     "metadata": {},
     "output_type": "execute_result"
    },
    {
     "data": {
      "image/png": "[encoded data removed]",
      "text/plain": [
       "<Figure size 640x480 with 1 Axes>"
      ]
     },
     "metadata": {},
     "output_type": "display_data"
    }
   ],
   "source": [
    "plt.bar(np.arange(5),height=[np.mean(list(d.values()))for d in l.values()],yerr=[np.std(list(d.values()))for d in l.values()])\n",
    "plt.xticks(np.arange(5),list(l.keys()))"
   ]
  },
  {
   "cell_type": "code",
   "execution_count": 5,
   "metadata": {},
   "outputs": [
    {
     "data": {
      "text/plain": [
       "{'N': 6,\n",
       " 'replicas': ['Server_148122',\n",
       "  'Server_195839',\n",
       "  'RandomServer814578',\n",
       "  'RandomServer884333',\n",
       "  'RandomServer390935',\n",
       "  'RandomServer470157']}"
      ]
     },
     "execution_count": 5,
     "metadata": {},
     "output_type": "execute_result"
    }
   ],
   "source": [
    "requests.get(\"http://10.171.9.221:5000/rep\").json()[\"message\"]"
   ]
  },
  {
   "cell_type": "code",
   "execution_count": 6,
   "metadata": {},
   "outputs": [
    {
     "name": "stdout",
     "output_type": "stream",
     "text": [
      "Requests handled by each server instance:\n",
      "{6: {'RandomServer390935': 260, 'Server_195839': 128, 'Server_148122': 259, 'RandomServer884333': 110, 'RandomServer814578': 192, 'RandomServer470157': 51}}\n",
      "removed\n",
      "Requests handled by each server instance:\n",
      "{6: {'RandomServer390935': 260, 'Server_195839': 128, 'Server_148122': 259, 'RandomServer884333': 110, 'RandomServer814578': 192, 'RandomServer470157': 51}, 5: {'Server_148122': 317, 'RandomServer884333': 115, 'RandomServer814578': 265, 'RandomServer390935': 243, 'RandomServer470157': 60}}\n",
      "removed\n",
      "Requests handled by each server instance:\n",
      "{6: {'RandomServer390935': 260, 'Server_195839': 128, 'Server_148122': 259, 'RandomServer884333': 110, 'RandomServer814578': 192, 'RandomServer470157': 51}, 5: {'Server_148122': 317, 'RandomServer884333': 115, 'RandomServer814578': 265, 'RandomServer390935': 243, 'RandomServer470157': 60}, 4: {'RandomServer814578': 247, 'RandomServer390935': 276, 'RandomServer470157': 160, 'Server_148122': 317}}\n",
      "removed\n",
      "Requests handled by each server instance:\n",
      "{6: {'RandomServer390935': 260, 'Server_195839': 128, 'Server_148122': 259, 'RandomServer884333': 110, 'RandomServer814578': 192, 'RandomServer470157': 51}, 5: {'Server_148122': 317, 'RandomServer884333': 115, 'RandomServer814578': 265, 'RandomServer390935': 243, 'RandomServer470157': 60}, 4: {'RandomServer814578': 247, 'RandomServer390935': 276, 'RandomServer470157': 160, 'Server_148122': 317}, 3: {'RandomServer390935': 360, 'Server_148122': 353, 'RandomServer470157': 287}}\n",
      "removed\n",
      "Requests handled by each server instance:\n",
      "{6: {'RandomServer390935': 260, 'Server_195839': 128, 'Server_148122': 259, 'RandomServer884333': 110, 'RandomServer814578': 192, 'RandomServer470157': 51}, 5: {'Server_148122': 317, 'RandomServer884333': 115, 'RandomServer814578': 265, 'RandomServer390935': 243, 'RandomServer470157': 60}, 4: {'RandomServer814578': 247, 'RandomServer390935': 276, 'RandomServer470157': 160, 'Server_148122': 317}, 3: {'RandomServer390935': 360, 'Server_148122': 353, 'RandomServer470157': 287}, 2: {'RandomServer470157': 542, 'RandomServer390935': 458}}\n"
     ]
    }
   ],
   "source": [
    "\n",
    "if __name__ == \"__main__\":\n",
    "    l={}\n",
    "    for r in range(5):\n",
    "        num_rep=requests.get(\"http://10.171.9.221:5000/rep\").json()[\"message\"][\"N\"]\n",
    "        load = await asyncio.wait_for(sim_calls(1000),timeout=None)\n",
    "        l[num_rep]=dict(load)\n",
    "        print(l)\n",
    "\n",
    "        if r<4:\n",
    "            status=requests.delete(\"http://10.171.9.221:5000/rm\",json={'n':1}).status_code\n",
    "            if status==200:\n",
    "                print(\"removed\")\n",
    "            else:\n",
    "                print(\"can not remove\")\n",
    "            time.sleep(20)"
   ]
  },
  {
   "cell_type": "code",
   "execution_count": 13,
   "metadata": {},
   "outputs": [
    {
     "data": {
      "text/plain": [
       "([<matplotlib.axis.XTick at 0x7fbac8cca5e0>,\n",
       "  <matplotlib.axis.XTick at 0x7fbac8cca5b0>,\n",
       "  <matplotlib.axis.XTick at 0x7fbac8c70f40>,\n",
       "  <matplotlib.axis.XTick at 0x7fbac699b790>,\n",
       "  <matplotlib.axis.XTick at 0x7fbac69c72b0>],\n",
       " [Text(0, 0, '6'),\n",
       "  Text(1, 0, '5'),\n",
       "  Text(2, 0, '4'),\n",
       "  Text(3, 0, '3'),\n",
       "  Text(4, 0, '2')])"
      ]
     },
     "execution_count": 13,
     "metadata": {},
     "output_type": "execute_result"
    },
    {
     "data": {
      "image/png": "[encoded data removed]",
      "text/plain": [
       "<Figure size 640x480 with 1 Axes>"
      ]
     },
     "metadata": {},
     "output_type": "display_data"
    }
   ],
   "source": [
    "plt.bar(np.arange(5),height=[np.mean(list(d.values()))for d in l.values()],yerr=[np.std(list(d.values()))for d in l.values()])\n",
    "plt.xticks(np.arange(5),list(l.keys()))"
   ]
  },
  {
   "cell_type": "code",
   "execution_count": 46,
   "metadata": {},
   "outputs": [
    {
     "data": {
      "text/plain": [
       "{'N': 2, 'replicas': ['Server_156924', 'Server_165816']}"
      ]
     },
     "execution_count": 46,
     "metadata": {},
     "output_type": "execute_result"
    }
   ],
   "source": [
    "requests.get(\"http://10.171.9.221:5000/rep\").json()[\"message\"]"
   ]
  },
  {
   "cell_type": "code",
   "execution_count": 29,
   "metadata": {},
   "outputs": [
    {
     "data": {
      "text/plain": [
       "{'N': 2, 'replicas': ['Server_156924', 'Server_165816']}"
      ]
     },
     "execution_count": 29,
     "metadata": {},
     "output_type": "execute_result"
    }
   ],
   "source": [
    "requests.get(\"http://10.171.9.221:5000/rep\").json()[\"message\"]"
   ]
  },
  {
   "cell_type": "code",
   "execution_count": 49,
   "metadata": {},
   "outputs": [
    {
     "data": {
      "text/plain": [
       "166.66666666666666"
      ]
     },
     "execution_count": 49,
     "metadata": {},
     "output_type": "execute_result"
    }
   ],
   "source": [
    "np.mean(list(l[6].values()))"
   ]
  },
  {
   "cell_type": "code",
   "execution_count": null,
   "metadata": {},
   "outputs": [],
   "source": []
  }
 ],
 "metadata": {
  "kernelspec": {
   "display_name": "Python 3",
   "language": "python",
   "name": "python3"
  },
  "language_info": {
   "codemirror_mode": {
    "name": "ipython",
    "version": 3
   },
   "file_extension": ".py",
   "mimetype": "text/x-python",
   "name": "python",
   "nbconvert_exporter": "python",
   "pygments_lexer": "ipython3",
   "version": "3.8.10"
  }
 },
 "nbformat": 4,
 "nbformat_minor": 2
}
