{
 "cells": [
  {
   "cell_type": "code",
   "execution_count": 1,
   "metadata": {},
   "outputs": [],
   "source": [
    "import asyncio\n",
    "import aiohttp\n",
    "import requests\n",
    "import json\n",
    "import time\n",
    "import numpy as np\n",
    "import matplotlib.pyplot as plt\n",
    "from collections import defaultdict"
   ]
  },
  {
   "cell_type": "code",
   "execution_count": 3,
   "metadata": {},
   "outputs": [],
   "source": [
    "async def make_request(session, url):\n",
    "    async with session.get(url) as response:\n",
    "        return await response.text()\n",
    "\n",
    "async def sim_calls(num_requests):\n",
    "    url = \"http://10.171.9.221:5000/home\"\n",
    "    results = defaultdict(lambda :0)\n",
    "\n",
    "    async with aiohttp.ClientSession() as session:\n",
    "        tasks = [make_request(session, url) for _ in range(num_requests)]\n",
    "        responses = await asyncio.gather(*tasks)\n",
    "\n",
    "    for response in responses:\n",
    "        #print(response)\n",
    "        server = json.loads(response)[\"message\"].split(\":\")[-1].strip()\n",
    "        results[server] += 1\n",
    "\n",
    "    print(\"Requests handled by each server instance:\")\n",
    "    return results"
   ]
  },
  {
   "cell_type": "code",
   "execution_count": 7,
   "metadata": {},
   "outputs": [
    {
     "ename": "TypeError",
     "evalue": "string indices must be integers",
     "output_type": "error",
     "traceback": [
      "\u001b[0;31m---------------------------------------------------------------------------\u001b[0m",
      "\u001b[0;31mTypeError\u001b[0m                                 Traceback (most recent call last)",
      "Cell \u001b[0;32mIn[7], line 1\u001b[0m\n\u001b[0;32m----> 1\u001b[0m num_rep\u001b[38;5;241m=\u001b[39m\u001b[43mrequests\u001b[49m\u001b[38;5;241;43m.\u001b[39;49m\u001b[43mget\u001b[49m\u001b[43m(\u001b[49m\u001b[38;5;124;43m\"\u001b[39;49m\u001b[38;5;124;43mhttp://10.171.9.221:5000/home\u001b[39;49m\u001b[38;5;124;43m\"\u001b[39;49m\u001b[43m)\u001b[49m\u001b[38;5;241;43m.\u001b[39;49m\u001b[43mjson\u001b[49m\u001b[43m(\u001b[49m\u001b[43m)\u001b[49m\u001b[43m[\u001b[49m\u001b[38;5;124;43m\"\u001b[39;49m\u001b[38;5;124;43mmessage\u001b[39;49m\u001b[38;5;124;43m\"\u001b[39;49m\u001b[43m]\u001b[49m\u001b[43m[\u001b[49m\u001b[38;5;124;43m\"\u001b[39;49m\u001b[38;5;124;43mstatus\u001b[39;49m\u001b[38;5;124;43m\"\u001b[39;49m\u001b[43m]\u001b[49m\n",
      "\u001b[0;31mTypeError\u001b[0m: string indices must be integers"
     ]
    }
   ],
   "source": [
    "num_rep=requests.get(\"http://10.171.9.221:5000/home\").json()[\"message\"][\"status\"]"
   ]
  },
  {
   "cell_type": "code",
   "execution_count": 12,
   "metadata": {},
   "outputs": [
    {
     "name": "stdout",
     "output_type": "stream",
     "text": [
      "Requests handled by each server instance:\n",
      "{3: {'Server_746730': 5978, 'Server_632389': 2499, 'Server_817449': 1523}}\n",
      "added\n",
      "Requests handled by each server instance:\n",
      "{3: {'Server_746730': 5978, 'Server_632389': 2499, 'Server_817449': 1523}, 4: {'RandomServer791580': 3373, 'Server_632389': 2216, 'Server_746730': 3423, 'Server_817449': 988}}\n",
      "added\n",
      "Requests handled by each server instance:\n",
      "{3: {'Server_746730': 5978, 'Server_632389': 2499, 'Server_817449': 1523}, 4: {'RandomServer791580': 3373, 'Server_632389': 2216, 'Server_746730': 3423, 'Server_817449': 988}, 5: {'Server_632389': 2196, 'RandomServer163961': 1594, 'Server_746730': 2373, 'RandomServer791580': 2844, 'Server_817449': 993}}\n",
      "added\n",
      "Requests handled by each server instance:\n",
      "{3: {'Server_746730': 5978, 'Server_632389': 2499, 'Server_817449': 1523}, 4: {'RandomServer791580': 3373, 'Server_632389': 2216, 'Server_746730': 3423, 'Server_817449': 988}, 5: {'Server_632389': 2196, 'RandomServer163961': 1594, 'Server_746730': 2373, 'RandomServer791580': 2844, 'Server_817449': 993}, 6: {'Server_632389': 2080, 'RandomServer791580': 1878, 'RandomServer163961': 1604, 'Server_817449': 750, 'Server_746730': 2312, 'RandomServer869145': 1376}}\n"
     ]
    }
   ],
   "source": [
    "\n",
    "if __name__ == \"__main__\":\n",
    "    l={}\n",
    "    for r in range(4): #0:2 1:3 2:4 3:5 4:6: 7\n",
    "        num_rep=requests.get(\"http://10.171.9.221:5000/rep\").json()[\"message\"][\"N\"]\n",
    "        load = await asyncio.wait_for(sim_calls(10000),timeout=None)\n",
    "        l[num_rep]=dict(load)\n",
    "        print(l)\n",
    "\n",
    "        if r<3:\n",
    "            status=requests.post(\"http://10.171.9.221:5000/add\",json={'n':1}).status_code\n",
    "            if status==200:\n",
    "                print(\"added\")\n",
    "            else:\n",
    "                print(\"can not add\")\n",
    "            time.sleep(10)"
   ]
  },
  {
   "cell_type": "code",
   "execution_count": 14,
   "metadata": {},
   "outputs": [
    {
     "data": {
      "image/png": "[encoded data removed]",
      "text/plain": [
       "<Figure size 640x480 with 1 Axes>"
      ]
     },
     "metadata": {},
     "output_type": "display_data"
    }
   ],
   "source": [
    "plt.bar(np.arange(4),height=[np.mean(list(d.values()))for d in l.values()],yerr=[np.std(list(d.values()))for d in l.values()])\n",
    "plt.xticks(np.arange(4),list(l.keys()))\n",
    "plt.xlabel(\"no of servers\")\n",
    "plt.ylabel(\"no. of requests\")\n",
    "plt.title(\"avg load per server\")\n",
    "plt.savefig(\"./results/AnalysisServerAddition.jpg\")"
   ]
  },
  {
   "cell_type": "code",
   "execution_count": null,
   "metadata": {},
   "outputs": [],
   "source": [
    "requests.get(\"http://10.171.9.221:5000/rep\").json()[\"message\"]"
   ]
  },
  {
   "cell_type": "code",
   "execution_count": 15,
   "metadata": {},
   "outputs": [
    {
     "name": "stdout",
     "output_type": "stream",
     "text": [
      "Requests handled by each server instance:\n",
      "{6: {'Server_632389': 2052, 'RandomServer163961': 1504, 'Server_817449': 791, 'Server_746730': 2391, 'RandomServer869145': 1361, 'RandomServer791580': 1901}}\n",
      "removed\n",
      "Requests handled by each server instance:\n",
      "{6: {'Server_632389': 2052, 'RandomServer163961': 1504, 'Server_817449': 791, 'Server_746730': 2391, 'RandomServer869145': 1361, 'RandomServer791580': 1901}, 5: {'RandomServer869145': 1644, 'Server_746730': 2647, 'RandomServer791580': 2036, 'RandomServer163961': 1548, 'Server_632389': 2125}}\n",
      "removed\n",
      "Requests handled by each server instance:\n",
      "{6: {'Server_632389': 2052, 'RandomServer163961': 1504, 'Server_817449': 791, 'Server_746730': 2391, 'RandomServer869145': 1361, 'RandomServer791580': 1901}, 5: {'RandomServer869145': 1644, 'Server_746730': 2647, 'RandomServer791580': 2036, 'RandomServer163961': 1548, 'Server_632389': 2125}, 4: {'Server_632389': 2168, 'RandomServer163961': 2142, 'RandomServer869145': 2733, 'RandomServer791580': 2957}}\n",
      "removed\n",
      "Requests handled by each server instance:\n",
      "{6: {'Server_632389': 2052, 'RandomServer163961': 1504, 'Server_817449': 791, 'Server_746730': 2391, 'RandomServer869145': 1361, 'RandomServer791580': 1901}, 5: {'RandomServer869145': 1644, 'Server_746730': 2647, 'RandomServer791580': 2036, 'RandomServer163961': 1548, 'Server_632389': 2125}, 4: {'Server_632389': 2168, 'RandomServer163961': 2142, 'RandomServer869145': 2733, 'RandomServer791580': 2957}, 3: {'RandomServer869145': 2958, 'Server_632389': 2141, 'RandomServer791580': 4901}}\n"
     ]
    }
   ],
   "source": [
    "\n",
    "if __name__ == \"__main__\":\n",
    "    l={}\n",
    "    for r in range(4):\n",
    "        num_rep=requests.get(\"http://10.171.9.221:5000/rep\").json()[\"message\"][\"N\"]\n",
    "        load = await asyncio.wait_for(sim_calls(10000),timeout=None)\n",
    "        l[num_rep]=dict(load)\n",
    "        print(l)\n",
    "\n",
    "        if r<3:\n",
    "            status=requests.delete(\"http://10.171.9.221:5000/rm\",json={'n':1}).status_code\n",
    "            if status==200:\n",
    "                print(\"removed\")\n",
    "            else:\n",
    "                print(\"can not remove\")\n",
    "            time.sleep(20)"
   ]
  },
  {
   "cell_type": "code",
   "execution_count": 16,
   "metadata": {},
   "outputs": [
    {
     "data": {
      "image/png": "[encoded data removed]",
      "text/plain": [
       "<Figure size 640x480 with 1 Axes>"
      ]
     },
     "metadata": {},
     "output_type": "display_data"
    }
   ],
   "source": [
    "plt.bar(np.arange(4),height=[np.mean(list(d.values()))for d in l.values()],yerr=[np.std(list(d.values()))for d in l.values()])\n",
    "plt.xticks(np.arange(4),list(l.keys()))\n",
    "plt.xlabel(\"no of servers\")\n",
    "plt.ylabel(\"no. of requests\")\n",
    "plt.title(\"avg load per server\")\n",
    "plt.savefig(\"./results/AnalysisServerRemove.jpg\")"
   ]
  },
  {
   "cell_type": "code",
   "execution_count": null,
   "metadata": {},
   "outputs": [],
   "source": [
    "requests.get(\"http://10.171.9.221:5000/rep\").json()[\"message\"]"
   ]
  },
  {
   "cell_type": "code",
   "execution_count": null,
   "metadata": {},
   "outputs": [],
   "source": [
    "requests.get(\"http://10.171.9.221:5000/rep\").json()[\"message\"]"
   ]
  },
  {
   "cell_type": "code",
   "execution_count": null,
   "metadata": {},
   "outputs": [],
   "source": [
    "np.mean(list(l[6].values()))"
   ]
  },
  {
   "cell_type": "code",
   "execution_count": null,
   "metadata": {},
   "outputs": [],
   "source": []
  }
 ],
 "metadata": {
  "kernelspec": {
   "display_name": "Python 3",
   "language": "python",
   "name": "python3"
  },
  "language_info": {
   "codemirror_mode": {
    "name": "ipython",
    "version": 3
   },
   "file_extension": ".py",
   "mimetype": "text/x-python",
   "name": "python",
   "nbconvert_exporter": "python",
   "pygments_lexer": "ipython3",
   "version": "3.10.12"
  }
 },
 "nbformat": 4,
 "nbformat_minor": 2
}
